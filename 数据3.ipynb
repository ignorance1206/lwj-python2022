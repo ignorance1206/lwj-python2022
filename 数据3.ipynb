{
 "cells": [
  {
   "cell_type": "markdown",
   "metadata": {},
   "source": [
    "#Plot Picture"
   ]
  },
  {
   "cell_type": "code",
   "execution_count": 7,
   "metadata": {},
   "outputs": [],
   "source": [
    "import pandas as pd # pandas是最常用模块之一\n",
    "import numpy as np #数据处理最重要的模块\n",
    "from IPython.core.interactiveshell import InteractiveShell#jupyter运行输出的模块\n",
    "\n",
    "import matplotlib.pyplot as plt #画图模块\n",
    "from datetime import datetime #时间模块\n",
    "#输出矢量图 渲染矢量图 是一个魔法函数(Magic Functions)内嵌绘图\n",
    "%matplotlib inline\n",
    "%config InlineBackend.figure_format='svg'\n",
    "\n",
    "#显示每一个运行结果\n",
    "InteractiveShell.ast_node_interactivity='all'\n",
    "\n",
    "#设置行不限制数量\n",
    "#pd.set_option('display.max_rows',None)\n",
    "\n",
    "#设置行不限制数量\n",
    "pd.set_option('display.max_columns',None)"
   ]
  },
  {
   "cell_type": "code",
   "execution_count": 10,
   "metadata": {},
   "outputs": [
    {
     "ename": "ValueError",
     "evalue": "'n' is a bad directive in format '%Y-%n-%d'",
     "output_type": "error",
     "traceback": [
      "\u001b[1;31m---------------------------------------------------------------------------\u001b[0m",
      "\u001b[1;31mTypeError\u001b[0m                                 Traceback (most recent call last)",
      "File \u001b[1;32md:\\py\\lib\\site-packages\\pandas\\core\\tools\\datetimes.py:510\u001b[0m, in \u001b[0;36m_to_datetime_with_format\u001b[1;34m(arg, orig_arg, name, tz, fmt, exact, errors, infer_datetime_format)\u001b[0m\n\u001b[0;32m    509\u001b[0m \u001b[39mtry\u001b[39;00m:\n\u001b[1;32m--> 510\u001b[0m     values, tz \u001b[39m=\u001b[39m conversion\u001b[39m.\u001b[39;49mdatetime_to_datetime64(arg)\n\u001b[0;32m    511\u001b[0m     dta \u001b[39m=\u001b[39m DatetimeArray(values, dtype\u001b[39m=\u001b[39mtz_to_dtype(tz))\n",
      "File \u001b[1;32md:\\py\\lib\\site-packages\\pandas\\_libs\\tslibs\\conversion.pyx:360\u001b[0m, in \u001b[0;36mpandas._libs.tslibs.conversion.datetime_to_datetime64\u001b[1;34m()\u001b[0m\n",
      "\u001b[1;31mTypeError\u001b[0m: Unrecognized value type: <class 'str'>",
      "\nDuring handling of the above exception, another exception occurred:\n",
      "\u001b[1;31mValueError\u001b[0m                                Traceback (most recent call last)",
      "\u001b[1;32mUntitled-1.ipynb Cell 3\u001b[0m in \u001b[0;36m<cell line: 2>\u001b[1;34m()\u001b[0m\n\u001b[0;32m      <a href='vscode-notebook-cell:Untitled-1.ipynb?jupyter-notebook#W5sdW50aXRsZWQ%3D?line=0'>1</a>\u001b[0m data\u001b[39m=\u001b[39mpd\u001b[39m.\u001b[39mread_csv(\u001b[39m'\u001b[39m\u001b[39m数据/000001.csv\u001b[39m\u001b[39m'\u001b[39m)\n\u001b[1;32m----> <a href='vscode-notebook-cell:Untitled-1.ipynb?jupyter-notebook#W5sdW50aXRsZWQ%3D?line=1'>2</a>\u001b[0m data[\u001b[39m'\u001b[39m\u001b[39mDay\u001b[39m\u001b[39m'\u001b[39m]\u001b[39m=\u001b[39mpd\u001b[39m.\u001b[39;49mto_datetime(data[\u001b[39m'\u001b[39;49m\u001b[39mDay\u001b[39;49m\u001b[39m'\u001b[39;49m],\u001b[39mformat\u001b[39;49m\u001b[39m=\u001b[39;49m\u001b[39m'\u001b[39;49m\u001b[39m%\u001b[39;49m\u001b[39mY-\u001b[39;49m\u001b[39m%\u001b[39;49m\u001b[39mn-\u001b[39;49m\u001b[39m%d\u001b[39;49;00m\u001b[39m'\u001b[39;49m)\n\u001b[0;32m      <a href='vscode-notebook-cell:Untitled-1.ipynb?jupyter-notebook#W5sdW50aXRsZWQ%3D?line=2'>3</a>\u001b[0m data\u001b[39m.\u001b[39mset_index(\u001b[39m'\u001b[39m\u001b[39mDay\u001b[39m\u001b[39m'\u001b[39m,inplace\u001b[39m=\u001b[39m\u001b[39mTrue\u001b[39;00m)\n\u001b[0;32m      <a href='vscode-notebook-cell:Untitled-1.ipynb?jupyter-notebook#W5sdW50aXRsZWQ%3D?line=3'>4</a>\u001b[0m data\u001b[39m.\u001b[39msort_values(by\u001b[39m=\u001b[39m[\u001b[39m'\u001b[39m\u001b[39mDay\u001b[39m\u001b[39m'\u001b[39m],axis\u001b[39m=\u001b[39m\u001b[39m0\u001b[39m,ascending\u001b[39m=\u001b[39m\u001b[39mTrue\u001b[39;00m)\n",
      "File \u001b[1;32md:\\py\\lib\\site-packages\\pandas\\core\\tools\\datetimes.py:1051\u001b[0m, in \u001b[0;36mto_datetime\u001b[1;34m(arg, errors, dayfirst, yearfirst, utc, format, exact, unit, infer_datetime_format, origin, cache)\u001b[0m\n\u001b[0;32m   1049\u001b[0m         result \u001b[39m=\u001b[39m arg\u001b[39m.\u001b[39mmap(cache_array)\n\u001b[0;32m   1050\u001b[0m     \u001b[39melse\u001b[39;00m:\n\u001b[1;32m-> 1051\u001b[0m         values \u001b[39m=\u001b[39m convert_listlike(arg\u001b[39m.\u001b[39;49m_values, \u001b[39mformat\u001b[39;49m)\n\u001b[0;32m   1052\u001b[0m         result \u001b[39m=\u001b[39m arg\u001b[39m.\u001b[39m_constructor(values, index\u001b[39m=\u001b[39marg\u001b[39m.\u001b[39mindex, name\u001b[39m=\u001b[39marg\u001b[39m.\u001b[39mname)\n\u001b[0;32m   1053\u001b[0m \u001b[39melif\u001b[39;00m \u001b[39misinstance\u001b[39m(arg, (ABCDataFrame, abc\u001b[39m.\u001b[39mMutableMapping)):\n",
      "File \u001b[1;32md:\\py\\lib\\site-packages\\pandas\\core\\tools\\datetimes.py:394\u001b[0m, in \u001b[0;36m_convert_listlike_datetimes\u001b[1;34m(arg, format, name, tz, unit, errors, infer_datetime_format, dayfirst, yearfirst, exact)\u001b[0m\n\u001b[0;32m    391\u001b[0m         \u001b[39mformat\u001b[39m \u001b[39m=\u001b[39m \u001b[39mNone\u001b[39;00m\n\u001b[0;32m    393\u001b[0m \u001b[39mif\u001b[39;00m \u001b[39mformat\u001b[39m \u001b[39mis\u001b[39;00m \u001b[39mnot\u001b[39;00m \u001b[39mNone\u001b[39;00m:\n\u001b[1;32m--> 394\u001b[0m     res \u001b[39m=\u001b[39m _to_datetime_with_format(\n\u001b[0;32m    395\u001b[0m         arg, orig_arg, name, tz, \u001b[39mformat\u001b[39;49m, exact, errors, infer_datetime_format\n\u001b[0;32m    396\u001b[0m     )\n\u001b[0;32m    397\u001b[0m     \u001b[39mif\u001b[39;00m res \u001b[39mis\u001b[39;00m \u001b[39mnot\u001b[39;00m \u001b[39mNone\u001b[39;00m:\n\u001b[0;32m    398\u001b[0m         \u001b[39mreturn\u001b[39;00m res\n",
      "File \u001b[1;32md:\\py\\lib\\site-packages\\pandas\\core\\tools\\datetimes.py:514\u001b[0m, in \u001b[0;36m_to_datetime_with_format\u001b[1;34m(arg, orig_arg, name, tz, fmt, exact, errors, infer_datetime_format)\u001b[0m\n\u001b[0;32m    512\u001b[0m     \u001b[39mreturn\u001b[39;00m DatetimeIndex\u001b[39m.\u001b[39m_simple_new(dta, name\u001b[39m=\u001b[39mname)\n\u001b[0;32m    513\u001b[0m \u001b[39mexcept\u001b[39;00m (\u001b[39mValueError\u001b[39;00m, \u001b[39mTypeError\u001b[39;00m):\n\u001b[1;32m--> 514\u001b[0m     \u001b[39mraise\u001b[39;00m err\n",
      "File \u001b[1;32md:\\py\\lib\\site-packages\\pandas\\core\\tools\\datetimes.py:501\u001b[0m, in \u001b[0;36m_to_datetime_with_format\u001b[1;34m(arg, orig_arg, name, tz, fmt, exact, errors, infer_datetime_format)\u001b[0m\n\u001b[0;32m    498\u001b[0m             \u001b[39mreturn\u001b[39;00m _box_as_indexlike(result, utc\u001b[39m=\u001b[39mutc, name\u001b[39m=\u001b[39mname)\n\u001b[0;32m    500\u001b[0m     \u001b[39m# fallback\u001b[39;00m\n\u001b[1;32m--> 501\u001b[0m     res \u001b[39m=\u001b[39m _array_strptime_with_fallback(\n\u001b[0;32m    502\u001b[0m         arg, name, tz, fmt, exact, errors, infer_datetime_format\n\u001b[0;32m    503\u001b[0m     )\n\u001b[0;32m    504\u001b[0m     \u001b[39mreturn\u001b[39;00m res\n\u001b[0;32m    506\u001b[0m \u001b[39mexcept\u001b[39;00m \u001b[39mValueError\u001b[39;00m \u001b[39mas\u001b[39;00m err:\n\u001b[0;32m    507\u001b[0m     \u001b[39m# Fallback to try to convert datetime objects if timezone-aware\u001b[39;00m\n\u001b[0;32m    508\u001b[0m     \u001b[39m#  datetime objects are found without passing `utc=True`\u001b[39;00m\n",
      "File \u001b[1;32md:\\py\\lib\\site-packages\\pandas\\core\\tools\\datetimes.py:437\u001b[0m, in \u001b[0;36m_array_strptime_with_fallback\u001b[1;34m(arg, name, tz, fmt, exact, errors, infer_datetime_format)\u001b[0m\n\u001b[0;32m    434\u001b[0m utc \u001b[39m=\u001b[39m tz \u001b[39m==\u001b[39m \u001b[39m\"\u001b[39m\u001b[39mutc\u001b[39m\u001b[39m\"\u001b[39m\n\u001b[0;32m    436\u001b[0m \u001b[39mtry\u001b[39;00m:\n\u001b[1;32m--> 437\u001b[0m     result, timezones \u001b[39m=\u001b[39m array_strptime(arg, fmt, exact\u001b[39m=\u001b[39;49mexact, errors\u001b[39m=\u001b[39;49merrors)\n\u001b[0;32m    438\u001b[0m     \u001b[39mif\u001b[39;00m \u001b[39m\"\u001b[39m\u001b[39m%\u001b[39m\u001b[39mZ\u001b[39m\u001b[39m\"\u001b[39m \u001b[39min\u001b[39;00m fmt \u001b[39mor\u001b[39;00m \u001b[39m\"\u001b[39m\u001b[39m%\u001b[39m\u001b[39mz\u001b[39m\u001b[39m\"\u001b[39m \u001b[39min\u001b[39;00m fmt:\n\u001b[0;32m    439\u001b[0m         \u001b[39mreturn\u001b[39;00m _return_parsed_timezone_results(result, timezones, tz, name)\n",
      "File \u001b[1;32md:\\py\\lib\\site-packages\\pandas\\_libs\\tslibs\\strptime.pyx:99\u001b[0m, in \u001b[0;36mpandas._libs.tslibs.strptime.array_strptime\u001b[1;34m()\u001b[0m\n",
      "File \u001b[1;32md:\\py\\lib\\site-packages\\pandas\\_libs\\tslibs\\strptime.pyx:117\u001b[0m, in \u001b[0;36mpandas._libs.tslibs.strptime.array_strptime\u001b[1;34m()\u001b[0m\n",
      "\u001b[1;31mValueError\u001b[0m: 'n' is a bad directive in format '%Y-%n-%d'"
     ]
    }
   ],
   "source": [
    "data=pd.read_csv('数据/000001.csv')\n",
    "data['Day']=pd.to_datetime(data['Day'],format='%Y-%n-%d')\n",
    "data.set_index('Day',inplace=True)\n",
    "data.sort_values(by=['Day'],axis=0,ascending=True)"
   ]
  },
  {
   "cell_type": "code",
   "execution_count": 11,
   "metadata": {},
   "outputs": [
    {
     "ename": "TypeError",
     "evalue": "cannot do slice indexing on RangeIndex with these indexers [1995-01] of type str",
     "output_type": "error",
     "traceback": [
      "\u001b[1;31m---------------------------------------------------------------------------\u001b[0m",
      "\u001b[1;31mTypeError\u001b[0m                                 Traceback (most recent call last)",
      "\u001b[1;32mUntitled-1.ipynb Cell 4\u001b[0m in \u001b[0;36m<cell line: 1>\u001b[1;34m()\u001b[0m\n\u001b[1;32m----> <a href='vscode-notebook-cell:Untitled-1.ipynb?jupyter-notebook#W6sdW50aXRsZWQ%3D?line=0'>1</a>\u001b[0m index\u001b[39m=\u001b[39mdata[\u001b[39m'\u001b[39;49m\u001b[39m1995-01\u001b[39;49m\u001b[39m'\u001b[39;49m:\u001b[39m'\u001b[39;49m\u001b[39m2022-07\u001b[39;49m\u001b[39m'\u001b[39;49m]\u001b[39m.\u001b[39mcopy()\n\u001b[0;32m      <a href='vscode-notebook-cell:Untitled-1.ipynb?jupyter-notebook#W6sdW50aXRsZWQ%3D?line=1'>2</a>\u001b[0m index[\u001b[39m'\u001b[39m\u001b[39mClose\u001b[39m\u001b[39m'\u001b[39m]\u001b[39m=\u001b[39mpd\u001b[39m.\u001b[39mto_numeric(index[\u001b[39m'\u001b[39m\u001b[39mClose\u001b[39m\u001b[39m'\u001b[39m])\n\u001b[0;32m      <a href='vscode-notebook-cell:Untitled-1.ipynb?jupyter-notebook#W6sdW50aXRsZWQ%3D?line=2'>3</a>\u001b[0m index[\u001b[39m'\u001b[39m\u001b[39mPreclose\u001b[39m\u001b[39m'\u001b[39m]\u001b[39m=\u001b[39mpd\u001b[39m.\u001b[39mto_numeric(index[\u001b[39m'\u001b[39m\u001b[39mPreclose\u001b[39m\u001b[39m'\u001b[39m])\n",
      "File \u001b[1;32md:\\py\\lib\\site-packages\\pandas\\core\\frame.py:3477\u001b[0m, in \u001b[0;36mDataFrame.__getitem__\u001b[1;34m(self, key)\u001b[0m\n\u001b[0;32m   3474\u001b[0m         \u001b[39mreturn\u001b[39;00m \u001b[39mself\u001b[39m\u001b[39m.\u001b[39m_get_item_cache(key)\n\u001b[0;32m   3476\u001b[0m \u001b[39m# Do we have a slicer (on rows)?\u001b[39;00m\n\u001b[1;32m-> 3477\u001b[0m indexer \u001b[39m=\u001b[39m convert_to_index_sliceable(\u001b[39mself\u001b[39;49m, key)\n\u001b[0;32m   3478\u001b[0m \u001b[39mif\u001b[39;00m indexer \u001b[39mis\u001b[39;00m \u001b[39mnot\u001b[39;00m \u001b[39mNone\u001b[39;00m:\n\u001b[0;32m   3479\u001b[0m     \u001b[39mif\u001b[39;00m \u001b[39misinstance\u001b[39m(indexer, np\u001b[39m.\u001b[39mndarray):\n",
      "File \u001b[1;32md:\\py\\lib\\site-packages\\pandas\\core\\indexing.py:2324\u001b[0m, in \u001b[0;36mconvert_to_index_sliceable\u001b[1;34m(obj, key)\u001b[0m\n\u001b[0;32m   2322\u001b[0m idx \u001b[39m=\u001b[39m obj\u001b[39m.\u001b[39mindex\n\u001b[0;32m   2323\u001b[0m \u001b[39mif\u001b[39;00m \u001b[39misinstance\u001b[39m(key, \u001b[39mslice\u001b[39m):\n\u001b[1;32m-> 2324\u001b[0m     \u001b[39mreturn\u001b[39;00m idx\u001b[39m.\u001b[39;49m_convert_slice_indexer(key, kind\u001b[39m=\u001b[39;49m\u001b[39m\"\u001b[39;49m\u001b[39mgetitem\u001b[39;49m\u001b[39m\"\u001b[39;49m)\n\u001b[0;32m   2326\u001b[0m \u001b[39melif\u001b[39;00m \u001b[39misinstance\u001b[39m(key, \u001b[39mstr\u001b[39m):\n\u001b[0;32m   2327\u001b[0m \n\u001b[0;32m   2328\u001b[0m     \u001b[39m# we are an actual column\u001b[39;00m\n\u001b[0;32m   2329\u001b[0m     \u001b[39mif\u001b[39;00m key \u001b[39min\u001b[39;00m obj\u001b[39m.\u001b[39mcolumns:\n",
      "File \u001b[1;32md:\\py\\lib\\site-packages\\pandas\\core\\indexes\\numeric.py:279\u001b[0m, in \u001b[0;36mNumericIndex._convert_slice_indexer\u001b[1;34m(self, key, kind)\u001b[0m\n\u001b[0;32m    275\u001b[0m     \u001b[39m# We always treat __getitem__ slicing as label-based\u001b[39;00m\n\u001b[0;32m    276\u001b[0m     \u001b[39m# translate to locations\u001b[39;00m\n\u001b[0;32m    277\u001b[0m     \u001b[39mreturn\u001b[39;00m \u001b[39mself\u001b[39m\u001b[39m.\u001b[39mslice_indexer(key\u001b[39m.\u001b[39mstart, key\u001b[39m.\u001b[39mstop, key\u001b[39m.\u001b[39mstep)\n\u001b[1;32m--> 279\u001b[0m \u001b[39mreturn\u001b[39;00m \u001b[39msuper\u001b[39;49m()\u001b[39m.\u001b[39;49m_convert_slice_indexer(key, kind\u001b[39m=\u001b[39;49mkind)\n",
      "File \u001b[1;32md:\\py\\lib\\site-packages\\pandas\\core\\indexes\\base.py:4041\u001b[0m, in \u001b[0;36mIndex._convert_slice_indexer\u001b[1;34m(self, key, kind)\u001b[0m\n\u001b[0;32m   4036\u001b[0m \u001b[39m\"\"\"\u001b[39;00m\n\u001b[0;32m   4037\u001b[0m \u001b[39mcalled from the getitem slicers, validate that we are in fact\u001b[39;00m\n\u001b[0;32m   4038\u001b[0m \u001b[39mintegers\u001b[39;00m\n\u001b[0;32m   4039\u001b[0m \u001b[39m\"\"\"\u001b[39;00m\n\u001b[0;32m   4040\u001b[0m \u001b[39mif\u001b[39;00m \u001b[39mself\u001b[39m\u001b[39m.\u001b[39mis_integer() \u001b[39mor\u001b[39;00m is_index_slice:\n\u001b[1;32m-> 4041\u001b[0m     \u001b[39mself\u001b[39;49m\u001b[39m.\u001b[39;49m_validate_indexer(\u001b[39m\"\u001b[39;49m\u001b[39mslice\u001b[39;49m\u001b[39m\"\u001b[39;49m, key\u001b[39m.\u001b[39;49mstart, \u001b[39m\"\u001b[39;49m\u001b[39mgetitem\u001b[39;49m\u001b[39m\"\u001b[39;49m)\n\u001b[0;32m   4042\u001b[0m     \u001b[39mself\u001b[39m\u001b[39m.\u001b[39m_validate_indexer(\u001b[39m\"\u001b[39m\u001b[39mslice\u001b[39m\u001b[39m\"\u001b[39m, key\u001b[39m.\u001b[39mstop, \u001b[39m\"\u001b[39m\u001b[39mgetitem\u001b[39m\u001b[39m\"\u001b[39m)\n\u001b[0;32m   4043\u001b[0m     \u001b[39mself\u001b[39m\u001b[39m.\u001b[39m_validate_indexer(\u001b[39m\"\u001b[39m\u001b[39mslice\u001b[39m\u001b[39m\"\u001b[39m, key\u001b[39m.\u001b[39mstep, \u001b[39m\"\u001b[39m\u001b[39mgetitem\u001b[39m\u001b[39m\"\u001b[39m)\n",
      "File \u001b[1;32md:\\py\\lib\\site-packages\\pandas\\core\\indexes\\base.py:6308\u001b[0m, in \u001b[0;36mIndex._validate_indexer\u001b[1;34m(self, form, key, kind)\u001b[0m\n\u001b[0;32m   6305\u001b[0m \u001b[39massert\u001b[39;00m kind \u001b[39min\u001b[39;00m [\u001b[39m\"\u001b[39m\u001b[39mgetitem\u001b[39m\u001b[39m\"\u001b[39m, \u001b[39m\"\u001b[39m\u001b[39miloc\u001b[39m\u001b[39m\"\u001b[39m]\n\u001b[0;32m   6307\u001b[0m \u001b[39mif\u001b[39;00m key \u001b[39mis\u001b[39;00m \u001b[39mnot\u001b[39;00m \u001b[39mNone\u001b[39;00m \u001b[39mand\u001b[39;00m \u001b[39mnot\u001b[39;00m is_integer(key):\n\u001b[1;32m-> 6308\u001b[0m     \u001b[39mraise\u001b[39;00m \u001b[39mself\u001b[39m\u001b[39m.\u001b[39m_invalid_indexer(form, key)\n",
      "\u001b[1;31mTypeError\u001b[0m: cannot do slice indexing on RangeIndex with these indexers [1995-01] of type str"
     ]
    }
   ],
   "source": [
    "index=data['2000-01':'2022-07'].copy()\n",
    "index['Close']=pd.to_numeric(index['Close'])\n",
    "index['Preclose']=pd.to_numeric(index['Preclose'])\n",
    "index['Raw_return']=index['Close']/index['Preclose']-1\n",
    "index['Log_return']=np.log(index['Close'])-np.log(index['Preclose'])"
   ]
  },
  {
   "cell_type": "code",
   "execution_count": null,
   "metadata": {},
   "outputs": [],
   "source": [
    "Month_data=index.resample('M')['Log_return'].sum().to_frame()#M代表的月度Q季度Y年度\n",
    "Month_data['Raw_return']=np.exp(Month_data['Log_return'])-1\n",
    "Month_data"
   ]
  },
  {
   "cell_type": "code",
   "execution_count": null,
   "metadata": {},
   "outputs": [],
   "source": [
    "Quarter_data=index.resample('Q')['Log_return'].sum().to_frame()\n",
    "Quarter_data['Raw_return']=np.exp(Quarter_data['Log_return'])-1\n",
    "Quarter_data"
   ]
  },
  {
   "cell_type": "markdown",
   "metadata": {},
   "source": [
    "#中国上证指数000001年度回报率数据"
   ]
  },
  {
   "cell_type": "code",
   "execution_count": null,
   "metadata": {},
   "outputs": [],
   "source": [
    "Year_data=index.resample('Y')['Log_return'].sum().to_frame()\n",
    "Year_data['Raw_return']=np.exp(Year_data['Log_return'])-1\n",
    "Year_data"
   ]
  },
  {
   "cell_type": "code",
   "execution_count": null,
   "metadata": {},
   "outputs": [],
   "source": [
    "Year_data2=index.resample('Y')['Close'].last().to_frame()\n",
    "Year_data2"
   ]
  },
  {
   "cell_type": "markdown",
   "metadata": {},
   "source": [
    "#Think要学会分析数据，思考数据，挖掘数据背后的故事\n",
    "为什么股票市场的回报率如此之高?中国股票市场股指、大盘平均年化收益率是13%\n",
    "为什么在股票市场回报率如此高的情况下，似乎也没有什么人能在股票市场赚钱?\n",
    "我们能够提前预测股票市场回报率么?"
   ]
  },
  {
   "cell_type": "code",
   "execution_count": 12,
   "metadata": {},
   "outputs": [
    {
     "ename": "NameError",
     "evalue": "name 'Year_data' is not defined",
     "output_type": "error",
     "traceback": [
      "\u001b[1;31m---------------------------------------------------------------------------\u001b[0m",
      "\u001b[1;31mNameError\u001b[0m                                 Traceback (most recent call last)",
      "\u001b[1;32mUntitled-1.ipynb Cell 11\u001b[0m in \u001b[0;36m<cell line: 1>\u001b[1;34m()\u001b[0m\n\u001b[1;32m----> <a href='vscode-notebook-cell:Untitled-1.ipynb?jupyter-notebook#X15sdW50aXRsZWQ%3D?line=0'>1</a>\u001b[0m Year_data[\u001b[39m'\u001b[39m\u001b[39mRaw_return\u001b[39m\u001b[39m'\u001b[39m]\u001b[39m.\u001b[39mmean()\n",
      "\u001b[1;31mNameError\u001b[0m: name 'Year_data' is not defined"
     ]
    }
   ],
   "source": [
    "Year_data['Raw_return'].mean()"
   ]
  },
  {
   "cell_type": "markdown",
   "metadata": {},
   "source": [
    "#数据可视化"
   ]
  },
  {
   "cell_type": "code",
   "execution_count": 15,
   "metadata": {},
   "outputs": [
    {
     "ename": "NameError",
     "evalue": "name 'Month_data' is not defined",
     "output_type": "error",
     "traceback": [
      "\u001b[1;31m---------------------------------------------------------------------------\u001b[0m",
      "\u001b[1;31mNameError\u001b[0m                                 Traceback (most recent call last)",
      "\u001b[1;32mUntitled-1.ipynb Cell 13\u001b[0m in \u001b[0;36m<cell line: 2>\u001b[1;34m()\u001b[0m\n\u001b[0;32m      <a href='vscode-notebook-cell:Untitled-1.ipynb?jupyter-notebook#W4sdW50aXRsZWQ%3D?line=0'>1</a>\u001b[0m fig\u001b[39m=\u001b[39mplt\u001b[39m.\u001b[39mfigure(figsize\u001b[39m=\u001b[39m(\u001b[39m20\u001b[39m,\u001b[39m5\u001b[39m))\n\u001b[0;32m      <a href='vscode-notebook-cell:Untitled-1.ipynb?jupyter-notebook#W4sdW50aXRsZWQ%3D?line=1'>2</a>\u001b[0m plt\u001b[39m.\u001b[39mplot(\u001b[39m'\u001b[39m\u001b[39mRaw_return\u001b[39m\u001b[39m'\u001b[39m,\u001b[39m#作图的变量名称\u001b[39;00m\n\u001b[0;32m      <a href='vscode-notebook-cell:Untitled-1.ipynb?jupyter-notebook#W4sdW50aXRsZWQ%3D?line=2'>3</a>\u001b[0m         \u001b[39m'\u001b[39m\u001b[39m.=r\u001b[39m\u001b[39m'\u001b[39m,\u001b[39m#线的类型\u001b[39;00m\n\u001b[0;32m      <a href='vscode-notebook-cell:Untitled-1.ipynb?jupyter-notebook#W4sdW50aXRsZWQ%3D?line=3'>4</a>\u001b[0m         label\u001b[39m=\u001b[39m\u001b[39m'\u001b[39m\u001b[39mReturn\u001b[39m\u001b[39m'\u001b[39m,\u001b[39m#标识线条，主要用在多线条\u001b[39;00m\n\u001b[0;32m      <a href='vscode-notebook-cell:Untitled-1.ipynb?jupyter-notebook#W4sdW50aXRsZWQ%3D?line=4'>5</a>\u001b[0m         linewidth\u001b[39m=\u001b[39m\u001b[39m1\u001b[39m,\u001b[39m#线的粗细\u001b[39;00m\n\u001b[1;32m----> <a href='vscode-notebook-cell:Untitled-1.ipynb?jupyter-notebook#W4sdW50aXRsZWQ%3D?line=5'>6</a>\u001b[0m         data\u001b[39m=\u001b[39mMonth_data[\u001b[39m'\u001b[39m\u001b[39m1995-01-01\u001b[39m\u001b[39m'\u001b[39m:\u001b[39m'\u001b[39m\u001b[39m2022-07=31\u001b[39m\u001b[39m'\u001b[39m])\n\u001b[0;32m      <a href='vscode-notebook-cell:Untitled-1.ipynb?jupyter-notebook#W4sdW50aXRsZWQ%3D?line=7'>8</a>\u001b[0m plt\u001b[39m.\u001b[39mtitle(\u001b[39m\"\u001b[39m\u001b[39mChina\u001b[39m\u001b[39m'\u001b[39m\u001b[39mStock Market\u001b[39m\u001b[39m\"\u001b[39m)\u001b[39m#标题\u001b[39;00m\n\u001b[0;32m      <a href='vscode-notebook-cell:Untitled-1.ipynb?jupyter-notebook#W4sdW50aXRsZWQ%3D?line=8'>9</a>\u001b[0m plt\u001b[39m.\u001b[39mxlabel(\u001b[39m'\u001b[39m\u001b[39mMonth\u001b[39m\u001b[39m'\u001b[39m)\u001b[39m#横坐标标题 x轴\u001b[39;00m\n",
      "\u001b[1;31mNameError\u001b[0m: name 'Month_data' is not defined"
     ]
    },
    {
     "data": {
      "text/plain": [
       "<Figure size 1440x360 with 0 Axes>"
      ]
     },
     "metadata": {},
     "output_type": "display_data"
    }
   ],
   "source": [
    "fig=plt.figure(figsize=(20,5))\n",
    "plt.plot('Raw_return',#作图的变量名称\n",
    "        '.=r',#线的类型\n",
    "        label='Return',#标识线条，主要用在多线条\n",
    "        linewidth=1,#线的粗细\n",
    "        data=Month_data['1995-01-01':'2022-07=31'])\n",
    "\n",
    "plt.title(\"China'Stock Market\")#标题\n",
    "plt.xlabel('Month')#横坐标标题 x轴\n",
    "plt.ylabel('Return')#纵坐标标题 y轴\n",
    "\n",
    "year_freq=pd.date_range(start='1995',end='2022',freq='y')\n",
    "c=plt.xticks(year_freq,year_freq.year,rotation=90,fontsize=10)"
   ]
  }
 ],
 "metadata": {
  "kernelspec": {
   "display_name": "Python 3.9.12 ('base')",
   "language": "python",
   "name": "python3"
  },
  "language_info": {
   "codemirror_mode": {
    "name": "ipython",
    "version": 3
   },
   "file_extension": ".py",
   "mimetype": "text/x-python",
   "name": "python",
   "nbconvert_exporter": "python",
   "pygments_lexer": "ipython3",
   "version": "3.9.12"
  },
  "orig_nbformat": 4,
  "vscode": {
   "interpreter": {
    "hash": "f7401c3a6738d15d752740af9785731698b5ffd5adfb1a735c0bc94da9902075"
   }
  }
 },
 "nbformat": 4,
 "nbformat_minor": 2
}
