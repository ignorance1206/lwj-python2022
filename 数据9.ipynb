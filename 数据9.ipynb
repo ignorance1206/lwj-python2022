{
 "cells": [
  {
   "cell_type": "markdown",
   "metadata": {},
   "source": [
    "import numpy as np # 数据处理最重要的模块\n",
    "import pandas as pd # 数据处理最重要的模块\n",
    "import matplotlib.pyplot as plt  # 画图模块\n",
    "import scipy.stats as stats # 统计模块\n",
    "import scipy\n",
    "from datetime import datetime # 时间模块\n",
    "from IPython.core.interactiveshell import InteractiveShell # jupyter运行输出的模块\n",
    "import statsmodels.formula.api as smf  # OLS regression\n",
    "\n",
    "#输出矢量图 渲染矢量图 是一个魔法函数（Magic Functions）内嵌绘图\n",
    "%matplotlib inline \n",
    "%config InlineBackend.figure_format = 'svg'\n",
    "\n",
    "#显示每一个运行结果\n",
    "InteractiveShell.ast_node_interactivity = 'all'\n",
    "\n",
    "#设置行不限制数量\n",
    "#pd.set_option('display.max_rows',None)\n",
    "\n",
    "#设置列不限制数量\n",
    "pd.set_option('display.max_columns', None)"
   ]
  },
  {
   "cell_type": "code",
   "execution_count": null,
   "metadata": {},
   "outputs": [],
   "source": [
    "data = pd.read_csv('C:\\Users\\ignorance\\Desktop\\Python\\数据\\000001.csv')\n",
    "data['Day'] = pd.to_datetime(data['Day'],format='%Y/%m/%d')\n",
    "data.set_index('Day', inplace = True)\n",
    "data.sort_values(by = ['Day'],axis=0, ascending=True)"
   ]
  },
  {
   "cell_type": "code",
   "execution_count": null,
   "metadata": {},
   "outputs": [],
   "source": [
    "daily_data = data['1997-01':'2022-07'].copy()\n",
    "daily_data['Close'] = pd.to_numeric(daily_data['Close'])\n",
    "daily_data['Preclose'] = pd.to_numeric(daily_data['Preclose'])\n",
    "# 计算000001上证指数日收益率 两种：\n",
    "daily_data['Raw_return'] = daily_data['Close'] / daily_data['Preclose'] - 1\n",
    "daily_data['Log_return'] = np.log(daily_data['Close']) - np.log(daily_data['Preclose'])\n",
    "daily_data"
   ]
  },
  {
   "cell_type": "code",
   "execution_count": null,
   "metadata": {},
   "outputs": [],
   "source": [
    "Month_data = daily_data.resample('m')['Log_return'].sum().to_frame()\n",
    "Month_data['Raw_return'] = np.exp(Month_data['Log_return']) - 1\n",
    "Month_data.reset_index(inplace=True)\n",
    "Month_data.rename(columns={'Day':'month'},inplace=True)\n",
    "Month_data.set_index('month',inplace=True)\n",
    "Month_data"
   ]
  },
  {
   "cell_type": "code",
   "execution_count": null,
   "metadata": {},
   "outputs": [],
   "source": [
    "Quarter_data = daily_data.resample('Q')['Log_return'].sum().to_frame()\n",
    "Quarter_data['Raw_return'] = np.exp(Quarter_data['Log_return']) - 1\n",
    "Quarter_data"
   ]
  },
  {
   "cell_type": "code",
   "execution_count": null,
   "metadata": {},
   "outputs": [],
   "source": [
    "Year_data = daily_data.resample('Y')['Log_return'].sum().to_frame()\n",
    "Year_data['Raw_return'] = np.exp(Year_data['Log_return']) - 1\n",
    "Year_data"
   ]
  },
  {
   "cell_type": "code",
   "execution_count": null,
   "metadata": {},
   "outputs": [],
   "source": [
    "inflation = pd.read_csv('C:\\Users\\ignorance\\Desktop\\Python\\inflation.csv')\n",
    "inflation['month'] = pd.to_datetime(inflation['month'],format='%Y/%m/%d')\n",
    "inflation.set_index('month',inplace=True)\n",
    "inflation.sort_values(by=['month'],axis=0,ascending=True)"
   ]
  },
  {
   "cell_type": "markdown",
   "metadata": {},
   "source": [
    "月度数据的预测\n",
    "A simple linear regression of an asset return on one or a few lagged predictors of interest is the most popular econometric approach for testing for return predictability. For simplicity, consider a univariate predictive regression of the period- (t+1) stock market return rt+1 on a single predictor variable xt:\n",
    "rt+1=α+βxt+εt+1\n",
    "where εt+1 is a zero-mean, unpredictable disturbance term. When xt is the inflation rate, dividend yield, book-to-price ratio, or turnover. Many researchers find that β is significantly different from zero; that is, there is in-sample evidence of stock market return predictability.\n",
    "\n",
    "H0:β=0\n",
    "H1:β≠0(我们需要通过理论分析，得出β的符号"
   ]
  },
  {
   "cell_type": "markdown",
   "metadata": {},
   "source": [
    "波动率"
   ]
  },
  {
   "cell_type": "code",
   "execution_count": null,
   "metadata": {},
   "outputs": [],
   "source": [
    "market_variance = daily_data.resample('M').apply({\n",
    "    'Raw_return':\n",
    "    lambda x: sum(x**2)\n",
    "})\n",
    "market_variance.reset_index(inplace=True)\n",
    "market_variance.rename(columns={'Day':'month','Raw_return':'MV'},inplace=True)\n",
    "market_variance.set_index('month',inplace=True)\n",
    "market_variance\n",
    "\n",
    "# market_variance <- daily_data[,.(MV = sum(Raw_return^2)),by = 'month']"
   ]
  },
  {
   "cell_type": "markdown",
   "metadata": {},
   "source": [
    "换手率\n",
    "模型 价量模型\n",
    "rt+1=α+β∗turnovert+εt+1\n",
    "两个假设：\n",
    "\n",
    "换手率越高，意味着股票市场的交易越活跃，投资者们不停地在交易股票，也就是说一只股票有很多人在买也有很多人在卖，大家即有人愿意买，也有人愿意卖。这说明大家对同一只股票的看法不一样，市场整体的换手率增加了意味着投资者对于股票市场的判断分歧比较大，这种不确定性的增加有可能就是股票市场预期风险的增加，所以未来的股票的收益率上升。\n",
    "\n",
    "H1： β>0\n",
    "换手率越高，意味着股票市场的交易越活跃，这种更加活跃的交易带来的是投资者的热情高涨，越来越多的投资者愿意投身到股票交易中去，股票市场被更多的交易炒热了，股票价格在同一时间上升，这容易造成在同期的股票市场价格被高估。然而市场总是理性的，在未来投资者会发现之前的价格被高估了，从而还会降到正常的水平，所以未来的股票收益率会下降（未来的价格会降下来）。\n",
    "\n",
    "H2： β<0\n",
    "换手率的定义如下：\n",
    "TOt=∑d=1Dt(∑NdiNTSi,d,t∑NdiNOSi,d,t)\n",
    "其中，NTSi,d,t是股票i在t月d日的交易量，NOSi,d,t是股票i在t月d日的流通股数。Dt是t月的交易天数，Nd是d日的交易股票数量。\n",
    "\n",
    "每一天的交易量 A 100股 B 200股 C 300股，A的流通股1000，B股票的流通股是1500，C股票的流通股是5000,这一天的换手率是：\n",
    "TOd=100+200+3001000+1500+5000=8\n",
    "第二天是9%,第三天是10%,月换手率 （8+9+10）%"
   ]
  },
  {
   "cell_type": "code",
   "execution_count": null,
   "metadata": {},
   "outputs": [],
   "source": [
    "cross = pd.read_csv('C:\\Users\\ignorance\\Desktop\\Python\\数据\\cross_section.csv')\n",
    "cross['month'] = pd.to_datetime(cross['month'],format='%Y-%m-%d')\n",
    "cross['to_v'] = pd.to_numeric(cross['to_v'])\n",
    "cross['floatingvalue'] = pd.to_numeric(cross['floatingvalue'])\n",
    "cross = cross.dropna(subset=['to_v','floatingvalue'])\n",
    "cross"
   ]
  },
  {
   "cell_type": "code",
   "execution_count": null,
   "metadata": {},
   "outputs": [],
   "source": [
    "turnover = pd.DataFrame(cross.groupby(['month']).apply(\n",
    "    lambda x:\n",
    "    np.average(x['to_v'],weights=x['floatingvalue']) \n",
    "))\n",
    "turnover = turnover.rename(columns={0:'to'})\n",
    "turnover['month']  = pd.date_range(start='1992', end='2022', freq='m')\n",
    "turnover.set_index('month',inplace=True)\n",
    "turnover"
   ]
  },
  {
   "cell_type": "code",
   "execution_count": null,
   "metadata": {},
   "outputs": [],
   "source": [
    "reg_data = pd.merge(Month_data,market_variance,on = 'month')\n",
    "reg_data = pd.merge(reg_data,inflation,on = 'month')\n",
    "reg_data = pd.merge(reg_data,turnover,on='month')\n",
    "reg_data"
   ]
  },
  {
   "cell_type": "markdown",
   "metadata": {},
   "source": [
    "描述性统计 Summary"
   ]
  },
  {
   "cell_type": "code",
   "execution_count": null,
   "metadata": {},
   "outputs": [],
   "source": [
    "reg_data['to'].describe().round(5)"
   ]
  },
  {
   "cell_type": "code",
   "execution_count": null,
   "metadata": {},
   "outputs": [],
   "source": [
    "reg_data['to'].skew()\n",
    "reg_data['to'].kurt()"
   ]
  },
  {
   "cell_type": "markdown",
   "metadata": {},
   "source": [
    "作图"
   ]
  },
  {
   "cell_type": "code",
   "execution_count": null,
   "metadata": {},
   "outputs": [],
   "source": [
    "%%time\n",
    "fig = plt.figure(figsize=(10, 5)) # 图片比例\n",
    "plt.plot(\n",
    "    'to',  # 要画图的变量名\n",
    "    '.-r',  # 线的类型\n",
    "    linewidth = 1,  # 线的粗细\n",
    "    data = reg_data['1995-01-01':'2021-12-31'])  # 画图的数据\n",
    "plt.title(\"China's Stock Market Turnover\") # 画图的标题\n",
    "plt.xlabel('Month') # 画图的x轴名称\n",
    "plt.ylabel('Turnover') # 画图的y轴名称\n",
    "\n",
    "year_freq = pd.date_range(start='1995', end='2022', freq='y')\n",
    "c = plt.xticks(year_freq, year_freq.year, rotation=90, fontsize=10)\n",
    "\n",
    "fig.savefig('turnover.pdf', bbox_inches='tight')"
   ]
  },
  {
   "cell_type": "code",
   "execution_count": null,
   "metadata": {},
   "outputs": [],
   "source": [
    "%%time\n",
    "fig = plt.figure(figsize=(10, 5))\n",
    "ax1 = fig.add_subplot(1, 1, 1)  #(x, x, x)这里前两个表示几*几的网格，最后一个表示第几子图\n",
    "\n",
    "ax1.plot(reg_data['MV'],\n",
    "         color='blue',\n",
    "         marker='.',\n",
    "         linestyle='-',\n",
    "         linewidth=1,\n",
    "         markersize=6,\n",
    "         alpha=0.4,\n",
    "         label='Market Variance')\n",
    "ax1.set_xlabel('month')  # 设置横坐标标签\n",
    "ax1.set_ylabel('Variance')  # 设置左边纵坐标标签\n",
    "ax1.legend(loc=2)  # 设置图例在左上方\n",
    "ax1.set_title(\"Variance and Turnover: Monthly 1995-2021\")  # 给整张图命名\n",
    "\n",
    "ax2 = ax1.twinx()  #twinx()函数表示共享x轴\n",
    "ax2.plot(reg_data['to'],\n",
    "         color='red',\n",
    "         marker='o',\n",
    "         linestyle='-',\n",
    "         linewidth=1,\n",
    "         markersize=2,\n",
    "         alpha=0.7,\n",
    "         label='to')\n",
    "ax2.set_ylabel('to')  # 设置右边纵坐标标签\n",
    "ax2.legend(loc=1)  # 设置图例在右上方\n",
    "\n",
    "year_freq = pd.date_range(start='1997', end='2022', freq='y')\n",
    "ticks = ax1.set_xticks(year_freq)\n",
    "labels = ax1.set_xticklabels(year_freq.year, rotation=90, fontsize='small')\n",
    "\n",
    "fig = plt.gcf()\n",
    "fig.savefig('mvto.pdf', bbox_inches='tight')"
   ]
  },
  {
   "cell_type": "code",
   "execution_count": null,
   "metadata": {},
   "outputs": [],
   "source": [
    "reg_data['lto'] = reg_data['to'].shift(1)\n",
    "model_fore_mv = smf.ols('MV ~ lto',\n",
    "                 data=reg_data['2001-01':'2021-12']).fit(\n",
    "                     cov_type='HAC', cov_kwds={'maxlags': 6})\n",
    "print(model_fore_mv.summary())"
   ]
  },
  {
   "cell_type": "code",
   "execution_count": null,
   "metadata": {},
   "outputs": [],
   "source": [
    "reg_data['lMV'] = reg_data['MV'].shift(1)\n",
    "model_fore_mv = smf.ols('MV ~ lto + lMV',\n",
    "                 data=reg_data['2001-01':'2021-12']).fit(\n",
    "                     cov_type='HAC', cov_kwds={'maxlags': 6})\n",
    "print(model_fore_mv.summary())"
   ]
  },
  {
   "cell_type": "code",
   "execution_count": null,
   "metadata": {},
   "outputs": [],
   "source": [
    "reg_data['fitted_mv'] = model_fore_mv.fittedvalues\n",
    "reg_data"
   ]
  },
  {
   "cell_type": "code",
   "execution_count": null,
   "metadata": {},
   "outputs": [],
   "source": [
    "%%time\n",
    "fig = plt.figure(figsize=(10, 5))\n",
    "\n",
    "plt.plot(reg_data['MV'],\n",
    "         color='blue',\n",
    "         marker='.',\n",
    "         linestyle='-',\n",
    "         linewidth=1,\n",
    "         markersize=6,\n",
    "         alpha=0.4,\n",
    "         label='Market Variance')\n",
    "plt.xlabel('month')  # 设置横坐标标签\n",
    "plt.ylabel('Variance')  # 设置左边纵坐标标签\n",
    "#plt.legend(loc=2)  # 设置图例在左上方\n",
    "plt.title(\"Variance and Turnover: Monthly 1995-2021\")  # 给整张图命名\n",
    "\n",
    "# ax2 = ax1.twinx()  #twinx()函数表示共享x轴\n",
    "plt.plot(reg_data['fitted_mv'],\n",
    "         color='red',\n",
    "         marker='o',\n",
    "         linestyle='-',\n",
    "         linewidth=1,\n",
    "         markersize=2,\n",
    "         alpha=0.7,\n",
    "         label='fitted_mv')\n",
    "# ax2.set_ylabel('fitted_mv')  # 设置右边纵坐标标签\n",
    "# ax2.legend(loc=1)  # 设置图例在右上方\n",
    "\n",
    "year_freq = pd.date_range(start='1995', end='2022', freq='y')\n",
    "\n",
    "c = plt.xticks(year_freq, year_freq.year, rotation=90, fontsize=10)\n",
    "\n",
    "fig = plt.gcf()\n",
    "fig.savefig('mvto2.pdf', bbox_inches='tight')"
   ]
  },
  {
   "cell_type": "code",
   "execution_count": null,
   "metadata": {},
   "outputs": [],
   "source": [
    "model_fore_ret = smf.ols('Raw_return ~ fitted_mv',\n",
    "                 data=reg_data['2001-01':'2021-12']).fit(\n",
    "                     cov_type='HAC', cov_kwds={'maxlags': 6})\n",
    "print(model_fore_ret.summary())"
   ]
  },
  {
   "cell_type": "markdown",
   "metadata": {},
   "source": [
    "换手率直接预测"
   ]
  },
  {
   "cell_type": "code",
   "execution_count": null,
   "metadata": {},
   "outputs": [],
   "source": [
    "reg_data['lto'] = reg_data['to'].shift(1)\n",
    "model_to = smf.ols('Raw_return ~ lto',\n",
    "                 data=reg_data['2001-01':'2021-12']).fit(\n",
    "                     cov_type='HAC', cov_kwds={'maxlags': 6})\n",
    "print(model_to.summary())"
   ]
  },
  {
   "cell_type": "markdown",
   "metadata": {},
   "source": [
    "季度结果"
   ]
  },
  {
   "cell_type": "code",
   "execution_count": null,
   "metadata": {},
   "outputs": [],
   "source": [
    "reg_data"
   ]
  },
  {
   "cell_type": "code",
   "execution_count": null,
   "metadata": {},
   "outputs": [],
   "source": [
    "Qreg_data = reg_data.resample('Q').apply({\n",
    "    'Raw_return':\n",
    "    lambda x: np.exp(sum(np.log( 1 + x))) - 1,\n",
    "    'to':\n",
    "    lambda x: sum(x),\n",
    "    'cpi':\n",
    "    lambda x: sum(x)\n",
    "})\n",
    "Qreg_data"
   ]
  },
  {
   "cell_type": "code",
   "execution_count": null,
   "metadata": {},
   "outputs": [],
   "source": [
    "Qreg_data['lto'] = Qreg_data['to'].shift(1)\n",
    "Qreg_data['lcpi'] = Qreg_data['cpi'].shift(1)\n",
    "model_to = smf.ols('Raw_return ~ lto + lcpi',\n",
    "                 data=Qreg_data['2001-01':'2021-12']).fit(\n",
    "                     cov_type='HAC', cov_kwds={'maxlags': 2})\n",
    "print(model_to.summary())"
   ]
  },
  {
   "cell_type": "code",
   "execution_count": null,
   "metadata": {},
   "outputs": [],
   "source": [
    "from statsmodels.iolib.summary2 import summary_col\n",
    "\n",
    "info_dict = {'No. observations': lambda x: f\"{int(x.nobs):d}\"}\n",
    "\n",
    "model_to = smf.ols('Raw_return ~ lto',\n",
    "                 data=Qreg_data['2001-01':'2021-12']).fit(\n",
    "                     cov_type='HAC', cov_kwds={'maxlags': 2})\n",
    "model_cpi = smf.ols('Raw_return ~ lcpi',\n",
    "                 data=Qreg_data['2001-01':'2021-12']).fit(\n",
    "                     cov_type='HAC', cov_kwds={'maxlags': 2})\n",
    "model_cpito = smf.ols('Raw_return ~ lto + lcpi',\n",
    "                 data=Qreg_data['2001-01':'2021-12']).fit(\n",
    "                     cov_type='HAC', cov_kwds={'maxlags': 2})\n",
    "\n",
    "results_table = summary_col(results=[model_to, model_cpi, model_cpito],\n",
    "                            float_format='%0.3f', #数据显示的格式，默认四位小数\n",
    "                            stars=True, # 是否有*，True为有\n",
    "                            model_names=['Quarter Turnover', 'Quarter Inflation', 'Quarter CPI & Inflation'],\n",
    "                            info_dict=info_dict,\n",
    "                            regressor_order=['Intercept', 'lto','lcpi'])\n",
    "\n",
    "results_table.add_title(\n",
    "    'Table - OLS Regressions: Forecast Quarterly Stock Market Return')\n",
    "\n",
    "print(results_table)"
   ]
  }
 ],
 "metadata": {
  "kernelspec": {
   "display_name": "Python 3.9.12 ('base')",
   "language": "python",
   "name": "python3"
  },
  "language_info": {
   "name": "python",
   "version": "3.9.12"
  },
  "orig_nbformat": 4,
  "vscode": {
   "interpreter": {
    "hash": "f7401c3a6738d15d752740af9785731698b5ffd5adfb1a735c0bc94da9902075"
   }
  }
 },
 "nbformat": 4,
 "nbformat_minor": 2
}
