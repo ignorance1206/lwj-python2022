{
 "cells": [
  {
   "cell_type": "code",
   "execution_count": 5,
   "metadata": {},
   "outputs": [],
   "source": [
    "import numpy as np # 数据处理最重要的模块\n",
    "import pandas as pd # 数据处理最重要的模块\n",
    "import matplotlib.pyplot as plt  # 画图模块\n",
    "import scipy.stats as stats # 统计模块\n",
    "import scipy\n",
    "from datetime import datetime # 时间模块\n",
    "from IPython.core.interactiveshell import InteractiveShell # jupyter运行输出的模块\n",
    "import statsmodels.formula.api as smf  # OLS regression\n",
    "\n",
    "#输出矢量图 渲染矢量图 是一个魔法函数（Magic Functions）内嵌绘图\n",
    "%matplotlib inline \n",
    "%config InlineBackend.figure_format = 'svg'\n",
    "\n",
    "#显示每一个运行结果\n",
    "InteractiveShell.ast_node_interactivity = 'all'\n",
    "\n",
    "#设置行不限制数量\n",
    "#pd.set_option('display.max_rows',None)\n",
    "\n",
    "#设置列不限制数量\n",
    "pd.set_option('display.max_columns', None)"
   ]
  },
  {
   "cell_type": "code",
   "execution_count": 6,
   "metadata": {},
   "outputs": [
    {
     "ename": "SyntaxError",
     "evalue": "(unicode error) 'unicodeescape' codec can't decode bytes in position 2-3: truncated \\UXXXXXXXX escape (3283701946.py, line 1)",
     "output_type": "error",
     "traceback": [
      "\u001b[1;36m  Input \u001b[1;32mIn [6]\u001b[1;36m\u001b[0m\n\u001b[1;33m    data = pd.read_csv('C:\\Users\\ignorance\\Desktop\\Python\\数据\\000001.csv')\u001b[0m\n\u001b[1;37m                                                                        ^\u001b[0m\n\u001b[1;31mSyntaxError\u001b[0m\u001b[1;31m:\u001b[0m (unicode error) 'unicodeescape' codec can't decode bytes in position 2-3: truncated \\UXXXXXXXX escape\n"
     ]
    }
   ],
   "source": [
    "data = pd.read_csv('C:\\Users\\ignorance\\Desktop\\Python\\数据\\000001.csv')\n",
    "data['Day'] = pd.to_datetime(data['Day'],format='%Y/%m/%d')\n",
    "data.set_index('Day', inplace = True)\n",
    "data.sort_values(by = ['Day'],axis=0, ascending=True)"
   ]
  },
  {
   "cell_type": "code",
   "execution_count": null,
   "metadata": {},
   "outputs": [],
   "source": [
    "daily_data = data['1995-01':'2022-07'].copy()\n",
    "daily_data['Close'] = pd.to_numeric(daily_data['Close'])\n",
    "daily_data['Preclose'] = pd.to_numeric(daily_data['Preclose'])\n",
    "# 计算000001上证指数日收益率 两种：\n",
    "daily_data['Raw_return'] = daily_data['Close'] / daily_data['Preclose'] - 1\n",
    "daily_data['Log_return'] = np.log(daily_data['Close']) - np.log(daily_data['Preclose'])\n",
    "daily_data"
   ]
  },
  {
   "cell_type": "code",
   "execution_count": null,
   "metadata": {},
   "outputs": [],
   "source": [
    "Month_data = daily_data.resample('m')['Log_return'].sum().to_frame()\n",
    "Month_data['Raw_return'] = np.exp(Month_data['Log_return']) - 1\n",
    "Month_data.reset_index(inplace=True)\n",
    "Month_data.rename(columns={'Day':'month'},inplace=True)\n",
    "Month_data.set_index('month',inplace=True)\n",
    "Month_data"
   ]
  },
  {
   "cell_type": "code",
   "execution_count": null,
   "metadata": {},
   "outputs": [],
   "source": [
    "Quarter_data = daily_data.resample('Q')['Log_return'].sum().to_frame()\n",
    "Quarter_data['Raw_return'] = np.exp(Quarter_data['Log_return']) - 1\n",
    "Quarter_data"
   ]
  },
  {
   "cell_type": "code",
   "execution_count": null,
   "metadata": {},
   "outputs": [],
   "source": [
    "Year_data = daily_data.resample('Y')['Log_return'].sum().to_frame()\n",
    "Year_data['Raw_return'] = np.exp(Year_data['Log_return']) - 1\n",
    "Year_data"
   ]
  },
  {
   "cell_type": "code",
   "execution_count": null,
   "metadata": {},
   "outputs": [],
   "source": [
    "inflation = pd.read_csv('datasets/inflation.csv')\n",
    "inflation['month'] = pd.to_datetime(inflation['month'],format='%Y/%m/%d')\n",
    "inflation.set_index('month',inplace=True)\n",
    "inflation.sort_values(by=['month'],axis=0,ascending=True)"
   ]
  },
  {
   "cell_type": "markdown",
   "metadata": {},
   "source": [
    "月度数据的预测\n",
    "A simple linear regression of an asset return on one or a few lagged predictors of interest is the most popular econometric approach for testing for return predictability. For simplicity, consider a univariate predictive regression of the period- (t+1) stock market return rt+1 on a single predictor variable xt:\n",
    "rt+1=α+βxt+εt+1\n",
    "where εt+1 is a zero-mean, unpredictable disturbance term. When xt is the inflation rate, dividend yield, book-to-price ratio, or turnover. Many researchers find that β is significantly different from zero; that is, there is in-sample evidence of stock market return predictability.\n",
    "\n",
    "H0:β=0\n",
    "H1:β≠0(我们需要通过理论分析，得出β的符号)\n",
    "ICAPM 模型的简化版\n",
    "rt=γEt−1(σ2t)\n",
    "rt=γEt−1(cov(r,Δc))\n",
    "γ就是相对风险厌恶系数。 这里涉及到一个概念就是 股权溢价之谜"
   ]
  },
  {
   "cell_type": "code",
   "execution_count": null,
   "metadata": {},
   "outputs": [],
   "source": [
    "market_variance = daily_data.resample('M').apply({\n",
    "    'Raw_return':\n",
    "    lambda x: sum(x**2)\n",
    "})\n",
    "market_variance.reset_index(inplace=True)\n",
    "market_variance.rename(columns={'Day':'month','Raw_return':'MV'},inplace=True)\n",
    "market_variance.set_index('month',inplace=True)\n",
    "market_variance\n",
    "\n",
    "# market_variance <- daily_data[,.(MV = sum(Raw_return^2)),by = 'month']"
   ]
  },
  {
   "cell_type": "code",
   "execution_count": null,
   "metadata": {},
   "outputs": [],
   "source": [
    "reg_data = pd.merge(Month_data,market_variance,on = 'month')\n",
    "reg_data = pd.merge(reg_data,inflation,on = 'month')\n",
    "reg_data"
   ]
  },
  {
   "cell_type": "markdown",
   "metadata": {},
   "source": [
    "作图 Plot"
   ]
  },
  {
   "cell_type": "code",
   "execution_count": null,
   "metadata": {},
   "outputs": [],
   "source": [
    "%%time\n",
    "fig = plt.figure(figsize=(10, 5))\n",
    "ax1 = fig.add_subplot(1, 1, 1)  #(x, x, x)这里前两个表示几*几的网格，最后一个表示第几子图\n",
    "\n",
    "ax1.plot(reg_data['2000-01':'2022-07']['Raw_return'],\n",
    "         color='blue',\n",
    "         marker='.',\n",
    "         linestyle='-',\n",
    "         linewidth=1,\n",
    "         markersize=6,\n",
    "         alpha=0.4,\n",
    "         label='Market Return')\n",
    "ax1.set_xlabel('Month')  # 设置横坐标标签\n",
    "ax1.set_ylabel('Return')  # 设置左边纵坐标标签\n",
    "ax1.legend(loc=2)  # 设置图例在左上方\n",
    "ax1.set_title(\"Variance and China's stock market excess return: Monthly 1995-2022\")  # 给整张图命名\n",
    "\n",
    "ax2 = ax1.twinx()  #twinx()函数表示共享x轴\n",
    "ax2.plot(reg_data['2000-01':'2022-07']['MV'],\n",
    "         color='red',\n",
    "         marker='o',\n",
    "         linestyle='-',\n",
    "         linewidth=1,\n",
    "         markersize=2,\n",
    "         alpha=0.7,\n",
    "         label='MV')\n",
    "ax2.set_ylabel('MV')  # 设置右边纵坐标标签\n",
    "ax2.legend(loc=1)  # 设置图例在右上方\n",
    "\n",
    "year_freq = pd.date_range(start='2000', end='2023', freq='y')\n",
    "ticks = ax1.set_xticks(year_freq)\n",
    "labels = ax1.set_xticklabels(year_freq.year, rotation=90, fontsize='small')\n",
    "\n",
    "fig = plt.gcf()\n",
    "fig.savefig('MV.pdf', bbox_inches='tight')"
   ]
  },
  {
   "cell_type": "markdown",
   "metadata": {},
   "source": [
    "描述性统计 Summary"
   ]
  },
  {
   "cell_type": "code",
   "execution_count": null,
   "metadata": {},
   "outputs": [],
   "source": [
    "reg_data['MV'].describe().round(5)"
   ]
  },
  {
   "cell_type": "code",
   "execution_count": null,
   "metadata": {},
   "outputs": [],
   "source": [
    "reg_data['MV'].skew()\n",
    "reg_data['MV'].kurt()"
   ]
  },
  {
   "cell_type": "markdown",
   "metadata": {},
   "source": [
    "OLS 回归结果"
   ]
  },
  {
   "cell_type": "code",
   "execution_count": null,
   "metadata": {},
   "outputs": [],
   "source": [
    "reg_data['lMV'] = reg_data['MV'].shift(1)\n",
    "model_cpi = smf.ols('Raw_return ~ lMV',\n",
    "                 data=reg_data['2000-01':'2022-07']).fit(\n",
    "                     cov_type='HAC', cov_kwds={'maxlags': 6})\n",
    "print(model_cpi.summary())"
   ]
  },
  {
   "cell_type": "markdown",
   "metadata": {},
   "source": [
    "Notes:\n",
    "[1] Standard Errors are heteroscedasticity and autocorrelation robust (HAC) using 6 lags and without small sample correction"
   ]
  },
  {
   "cell_type": "code",
   "execution_count": null,
   "metadata": {},
   "outputs": [],
   "source": [
    "reg_data['lcpi'] = reg_data['cpi'].shift(2)\n",
    "model_twovariables = smf.ols('Raw_return ~ lMV + lcpi',\n",
    "                 data=reg_data['2000-01':'2022-07']).fit(\n",
    "                     cov_type='HAC', cov_kwds={'maxlags': 6})\n",
    "print(model_twovariables.summary())"
   ]
  },
  {
   "cell_type": "markdown",
   "metadata": {},
   "source": [
    "Notes:\n",
    "[1] Standard Errors are heteroscedasticity and autocorrelation robust (HAC) using 6 lags and without small sample correction\n",
    "季度结果"
   ]
  },
  {
   "cell_type": "code",
   "execution_count": null,
   "metadata": {},
   "outputs": [],
   "source": [
    "Q_reg_data = reg_data['1995-01':'2021-06'].resample('Q').apply({\n",
    "    'Raw_return':\n",
    "    lambda x: np.exp(np.log(1 + x).sum()) - 1,\n",
    "    'MV':\n",
    "    np.sum\n",
    "})\n",
    "Q_reg_data"
   ]
  },
  {
   "cell_type": "code",
   "execution_count": null,
   "metadata": {},
   "outputs": [],
   "source": [
    "%%time\n",
    "fig = plt.figure(figsize=(10, 5))\n",
    "ax1 = fig.add_subplot(1, 1, 1)  #(x, x, x)这里前两个表示几*几的网格，最后一个表示第几子图\n",
    "\n",
    "ax1.plot(Q_reg_data['Raw_return'],\n",
    "         color='blue',\n",
    "         marker='.',\n",
    "         linestyle='-',\n",
    "         linewidth=1,\n",
    "         markersize=6,\n",
    "         alpha=0.4,\n",
    "         label='Market Return')\n",
    "ax1.set_xlabel('Q')  # 设置横坐标标签\n",
    "ax1.set_ylabel('ret')  # 设置左边纵坐标标签\n",
    "ax1.legend(loc=2)  # 设置图例在左上方\n",
    "ax1.set_title(\"Variance and China's stock market excess return: Quarterly 1995-2020\")  # 给整张图命名\n",
    "\n",
    "ax2 = ax1.twinx()  #twinx()函数表示共享x轴\n",
    "ax2.plot(Q_reg_data['MV'],\n",
    "         color='red',\n",
    "         marker='o',\n",
    "         linestyle='-',\n",
    "         linewidth=1,\n",
    "         markersize=2,\n",
    "         alpha=0.7,\n",
    "         label='MV')\n",
    "ax2.set_ylabel('MV')  # 设置右边纵坐标标签\n",
    "ax2.legend(loc=1)  # 设置图例在右上方\n",
    "\n",
    "year_freq = pd.date_range(start='1995', end='2023', freq='y')\n",
    "ticks = ax1.set_xticks(year_freq)\n",
    "labels = ax1.set_xticklabels(year_freq.year, rotation=90, fontsize='small')\n",
    "\n",
    "fig = plt.gcf()\n",
    "fig.savefig('QMV.pdf', bbox_inches='tight')"
   ]
  },
  {
   "cell_type": "code",
   "execution_count": null,
   "metadata": {},
   "outputs": [],
   "source": [
    "Q_reg_data['lMV'] = Q_reg_data['MV'].shift(1)\n",
    "model_qcpi = smf.ols('Raw_return ~ lMV',\n",
    "                 data=Q_reg_data['2000-01':'2022-06']).fit(\n",
    "                     cov_type='HAC', cov_kwds={'maxlags': 6})\n",
    "print(model_qcpi.summary())"
   ]
  },
  {
   "cell_type": "markdown",
   "metadata": {},
   "source": [
    "Notes:\n",
    "[1] Standard Errors are heteroscedasticity and autocorrelation robust (HAC) using 6 lags and without small sample correction\n",
    "长期预测 Long Horizon Forecast\n",
    "rt+1+rt+2+rt+3=α+βxt+εt+1"
   ]
  },
  {
   "cell_type": "code",
   "execution_count": null,
   "metadata": {},
   "outputs": [],
   "source": [
    "reg_data['next_ret'] = reg_data['Raw_return'].shift(-1) + 1\n",
    "reg_data['next_ret2'] = reg_data['Raw_return'].shift(-2) + 1\n",
    "reg_data['next_ret3'] = reg_data['Raw_return'].shift(-3) + 1\n",
    "reg_data['future_3month_return'] = reg_data['next_ret'] * reg_data['next_ret2'] * reg_data['next_ret3'] - 1\n",
    "reg_data"
   ]
  },
  {
   "cell_type": "code",
   "execution_count": null,
   "metadata": {},
   "outputs": [],
   "source": [
    "model_cpi_3month = smf.ols('future_3month_return ~ lMV',\n",
    "                 data=reg_data['2000-01':'2022-06']).fit(\n",
    "                     cov_type='HAC', cov_kwds={'maxlags': 6})\n",
    "print(model_cpi_3month.summary())"
   ]
  },
  {
   "cell_type": "markdown",
   "metadata": {},
   "source": [
    "Notes:\n",
    "[1] Standard Errors are heteroscedasticity and autocorrelation robust (HAC) using 6 lags and without small sample correction\n",
    "预测波动率\n",
    "这里的结果显示出波动率具有非常高的自相关性，类比前一次课的通货膨胀。"
   ]
  },
  {
   "cell_type": "code",
   "execution_count": null,
   "metadata": {},
   "outputs": [],
   "source": [
    "model_mv = smf.ols('MV ~ lMV + lcpi',\n",
    "                 data=reg_data['2000-01':'2022-07']).fit(\n",
    "                     cov_type='HAC', cov_kwds={'maxlags': 6})\n",
    "print(model_mv.summary())"
   ]
  }
 ],
 "metadata": {
  "kernelspec": {
   "display_name": "Python 3.9.12 ('base')",
   "language": "python",
   "name": "python3"
  },
  "language_info": {
   "codemirror_mode": {
    "name": "ipython",
    "version": 3
   },
   "file_extension": ".py",
   "mimetype": "text/x-python",
   "name": "python",
   "nbconvert_exporter": "python",
   "pygments_lexer": "ipython3",
   "version": "3.9.12"
  },
  "orig_nbformat": 4,
  "vscode": {
   "interpreter": {
    "hash": "f7401c3a6738d15d752740af9785731698b5ffd5adfb1a735c0bc94da9902075"
   }
  }
 },
 "nbformat": 4,
 "nbformat_minor": 2
}
