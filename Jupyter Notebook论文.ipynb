{
 "cells": [
  {
   "attachments": {},
   "cell_type": "markdown",
   "metadata": {},
   "source": [
    "工业品出厂价格指数ppi预测股票市场收益率（选取2012年-2022年科技板块股票数据）"
   ]
  },
  {
   "attachments": {},
   "cell_type": "markdown",
   "metadata": {},
   "source": [
    "准备工作"
   ]
  },
  {
   "cell_type": "code",
   "execution_count": 9,
   "metadata": {},
   "outputs": [],
   "source": [
    "import numpy as np # 数据处理最重要的模块\n",
    "import pandas as pd # 数据处理最重要的模块\n",
    "import matplotlib.pyplot as plt  # 画图模块\n",
    "import scipy.stats as stats # 统计模块\n",
    "import scipy\n",
    "from datetime import datetime # 时间模块\n",
    "from IPython.core.interactiveshell import InteractiveShell # jupyter运行输出的模块\n",
    "import statsmodels.formula.api as smf  # OLS regression\n",
    "\n",
    "#输出矢量图 渲染矢量图 是一个魔法函数（Magic Functions）内嵌绘图\n",
    "%matplotlib inline \n",
    "%config InlineBackend.figure_format = 'svg'\n",
    "\n",
    "#显示每一个运行结果\n",
    "InteractiveShell.ast_node_interactivity = 'all'\n",
    "\n",
    "#设置行不限制数量\n",
    "#pd.set_option('display.max_rows',None)\n",
    "\n",
    "#设置列不限制数量\n",
    "pd.set_option('display.max_columns', None)\n"
   ]
  },
  {
   "attachments": {},
   "cell_type": "markdown",
   "metadata": {},
   "source": [
    "导入数据"
   ]
  },
  {
   "cell_type": "code",
   "execution_count": 8,
   "metadata": {},
   "outputs": [
    {
     "ename": "NameError",
     "evalue": "name 'pd' is not defined",
     "output_type": "error",
     "traceback": [
      "\u001b[1;31m---------------------------------------------------------------------------\u001b[0m",
      "\u001b[1;31mNameError\u001b[0m                                 Traceback (most recent call last)",
      "\u001b[1;32mUntitled-1.ipynb Cell 5\u001b[0m in \u001b[0;36m<cell line: 1>\u001b[1;34m()\u001b[0m\n\u001b[1;32m----> <a href='vscode-notebook-cell:Untitled-1.ipynb?jupyter-notebook#W4sdW50aXRsZWQ%3D?line=0'>1</a>\u001b[0m data \u001b[39m=\u001b[39m pd\u001b[39m.\u001b[39mread_csv(\u001b[39m'\u001b[39m\u001b[39m数据\u001b[39m\u001b[39m\\\u001b[39m\u001b[39m科技板块股票.csv\u001b[39m\u001b[39m'\u001b[39m)\n\u001b[0;32m      <a href='vscode-notebook-cell:Untitled-1.ipynb?jupyter-notebook#W4sdW50aXRsZWQ%3D?line=1'>2</a>\u001b[0m data[\u001b[39m'\u001b[39m\u001b[39mDay\u001b[39m\u001b[39m'\u001b[39m] \u001b[39m=\u001b[39m pd\u001b[39m.\u001b[39mto_datetime(data[\u001b[39m'\u001b[39m\u001b[39mDay\u001b[39m\u001b[39m'\u001b[39m],\u001b[39mformat\u001b[39m\u001b[39m=\u001b[39m\u001b[39m'\u001b[39m\u001b[39m%\u001b[39m\u001b[39mY/\u001b[39m\u001b[39m%\u001b[39m\u001b[39mm/\u001b[39m\u001b[39m%d\u001b[39;00m\u001b[39m'\u001b[39m)\n\u001b[0;32m      <a href='vscode-notebook-cell:Untitled-1.ipynb?jupyter-notebook#W4sdW50aXRsZWQ%3D?line=2'>3</a>\u001b[0m data\u001b[39m.\u001b[39mset_index(\u001b[39m'\u001b[39m\u001b[39mDay\u001b[39m\u001b[39m'\u001b[39m, inplace \u001b[39m=\u001b[39m \u001b[39mTrue\u001b[39;00m)\n",
      "\u001b[1;31mNameError\u001b[0m: name 'pd' is not defined"
     ]
    }
   ],
   "source": [
    "data = pd.read_csv('数据\\科技板块股票.csv')\n",
    "data['Day'] = pd.to_datetime(data['Day'],format='%Y/%m/%d')\n",
    "data.set_index('Day', inplace = True)\n",
    "data.sort_values(by = ['Day'],axis=0, ascending=True)\n",
    "data"
   ]
  },
  {
   "cell_type": "code",
   "execution_count": 10,
   "metadata": {},
   "outputs": [
    {
     "ename": "NameError",
     "evalue": "name 'pd' is not defined",
     "output_type": "error",
     "traceback": [
      "\u001b[1;31m---------------------------------------------------------------------------\u001b[0m",
      "\u001b[1;31mNameError\u001b[0m                                 Traceback (most recent call last)",
      "\u001b[1;32mUntitled-1.ipynb Cell 6\u001b[0m in \u001b[0;36m<cell line: 1>\u001b[1;34m()\u001b[0m\n\u001b[1;32m----> <a href='vscode-notebook-cell:Untitled-1.ipynb?jupyter-notebook#Y241sdW50aXRsZWQ%3D?line=0'>1</a>\u001b[0m ppi\u001b[39m=\u001b[39mpd\u001b[39m.\u001b[39mread_csv(\u001b[39m'\u001b[39m\u001b[39m数据\u001b[39m\u001b[39m\\\u001b[39m\u001b[39m工业品出厂价格指数ppi.csv\u001b[39m\u001b[39m'\u001b[39m)\u001b[39m#读取工业品出厂价格指数ppi数据\u001b[39;00m\n\u001b[0;32m      <a href='vscode-notebook-cell:Untitled-1.ipynb?jupyter-notebook#Y241sdW50aXRsZWQ%3D?line=1'>2</a>\u001b[0m ppi[\u001b[39m'\u001b[39m\u001b[39mmonth\u001b[39m\u001b[39m'\u001b[39m]\u001b[39m=\u001b[39mpd\u001b[39m.\u001b[39mto_datetime(ppi[\u001b[39m'\u001b[39m\u001b[39mmonth\u001b[39m\u001b[39m'\u001b[39m],\u001b[39mformat\u001b[39m \u001b[39m=\u001b[39m \u001b[39m'\u001b[39m\u001b[39m%\u001b[39m\u001b[39mY/\u001b[39m\u001b[39m%\u001b[39m\u001b[39mm/\u001b[39m\u001b[39m%d\u001b[39;00m\u001b[39m'\u001b[39m)\u001b[39m#将数据中的时间转化为日期格式\u001b[39;00m\n\u001b[0;32m      <a href='vscode-notebook-cell:Untitled-1.ipynb?jupyter-notebook#Y241sdW50aXRsZWQ%3D?line=2'>3</a>\u001b[0m ppi\u001b[39m.\u001b[39mset_index(\u001b[39m'\u001b[39m\u001b[39mmonth\u001b[39m\u001b[39m'\u001b[39m,inplace\u001b[39m=\u001b[39m \u001b[39mTrue\u001b[39;00m) \u001b[39m#设置索引\u001b[39;00m\n",
      "\u001b[1;31mNameError\u001b[0m: name 'pd' is not defined"
     ]
    }
   ],
   "source": [
    "ppi=pd.read_csv('数据\\工业品出厂价格指数ppi.csv')#读取工业品出厂价格指数ppi数据\n",
    "ppi['month']=pd.to_datetime(ppi['month'],format = '%Y/%m/%d')#将数据中的时间转化为日期格式\n",
    "ppi.set_index('month',inplace= True) #设置索引\n",
    "ppi.sort_values(by=['month'],axis=0,ascending=True)#选出其中的月份数据"
   ]
  },
  {
   "attachments": {},
   "cell_type": "markdown",
   "metadata": {},
   "source": [
    "计算收益率股票的收益率"
   ]
  },
  {
   "cell_type": "markdown",
   "metadata": {},
   "source": [
    "股票的收益率的计算一般使用的是 **收盘价** 来计算。\n",
    "\n",
    "\n",
    "* Raw Return: $R_t = \\frac{p_t - p_{t-1}}{p_{t-1}} $\n",
    "* Log Return: $r_t = log(p_t) - log(p_{t-1})$\n",
    "\n",
    "自然对数收益率与原始收益率的关系：\n",
    "\n",
    "$r_t = log(1 + R_t)$\n",
    "\n",
    "* 在实际数据中，我们常用收盘价来计算收益率。为什么？\n",
    "* 对数收益率和原始收益率的区别在哪里？分别用在什么样的场景呢？"
   ]
  },
  {
   "cell_type": "markdown",
   "metadata": {},
   "source": [
    "## 复利的计算\n",
    "设某资产的的初始值为 $C$, 名义上的年利率为 $r$ ， 但是在一年内分成 $m$ 次付息，理论上每次付息 $C \\frac{r}{m}$, 最终的资产净值应为 \n",
    "\n",
    "$C+C \\frac{r}{m} \\times m=C(1+r)$; \n",
    "\n",
    "但是，因为提前付息，所以提前支付的利息也进入账户增值，从第二次付息开始，支付的利息就超过了 $C \\frac{r}{m}$, 使得一年后的净值要高于 $C(1+r)$。 一年后的净值为\n",
    "\n",
    "$C\\left(1+\\frac{r}{m}\\right)^{m}$\n",
    "\n",
    "当 $m \\rightarrow \\infty$ 时，由极限 $\\lim _{x \\rightarrow+\\infty}\\left(1+\\frac{1}{x}\\right)^{x}=e$, 可知\n",
    "\n",
    "$\\lim _{m \\rightarrow \\infty} C\\left(1+\\frac{r}{m}\\right)^{m}=\\lim _{m \\rightarrow \\infty} C\\left[\\left(1+\\frac{r}{m}\\right)^{\\frac{m}{r}}\\right]^{r}=C e^{r}$\n",
    "\n",
    "这时 $r$ 称为连续复利， 它也对应某个时间单位（一般是年)， $R=e^{r}-1$ 是连续复利 $r$ 对应的实际利率, $r$ 与 $R$ 的关系为\n",
    "\n",
    "$R=e^{r}-1, \\quad r=\\ln (1+R)$"
   ]
  },
  {
   "cell_type": "code",
   "execution_count": null,
   "metadata": {},
   "outputs": [
    {
     "ename": "NameError",
     "evalue": "name 'data' is not defined",
     "output_type": "error",
     "traceback": [
      "\u001b[1;31m---------------------------------------------------------------------------\u001b[0m",
      "\u001b[1;31mNameError\u001b[0m                                 Traceback (most recent call last)",
      "\u001b[1;32mUntitled-1.ipynb Cell 9\u001b[0m in \u001b[0;36m<cell line: 1>\u001b[1;34m()\u001b[0m\n\u001b[1;32m----> <a href='vscode-notebook-cell:Untitled-1.ipynb?jupyter-notebook#X11sdW50aXRsZWQ%3D?line=0'>1</a>\u001b[0m index \u001b[39m=\u001b[39m data[\u001b[39m'\u001b[39m\u001b[39m2012-12\u001b[39m\u001b[39m'\u001b[39m:\u001b[39m'\u001b[39m\u001b[39m2022-12\u001b[39m\u001b[39m'\u001b[39m]\u001b[39m.\u001b[39mcopy()\n\u001b[0;32m      <a href='vscode-notebook-cell:Untitled-1.ipynb?jupyter-notebook#X11sdW50aXRsZWQ%3D?line=1'>2</a>\u001b[0m index[\u001b[39m'\u001b[39m\u001b[39mClose\u001b[39m\u001b[39m'\u001b[39m] \u001b[39m=\u001b[39m pd\u001b[39m.\u001b[39mto_numeric(index[\u001b[39m'\u001b[39m\u001b[39mClose\u001b[39m\u001b[39m'\u001b[39m])\n\u001b[0;32m      <a href='vscode-notebook-cell:Untitled-1.ipynb?jupyter-notebook#X11sdW50aXRsZWQ%3D?line=2'>3</a>\u001b[0m index[\u001b[39m'\u001b[39m\u001b[39mPreclose\u001b[39m\u001b[39m'\u001b[39m] \u001b[39m=\u001b[39m pd\u001b[39m.\u001b[39mto_numeric(index[\u001b[39m'\u001b[39m\u001b[39mPreclose\u001b[39m\u001b[39m'\u001b[39m])\n",
      "\u001b[1;31mNameError\u001b[0m: name 'data' is not defined"
     ]
    }
   ],
   "source": [
    "index = data['2012-12':'2022-12'].copy()\n",
    "index['Close'] = pd.to_numeric(index['Close'])\n",
    "index['Preclose'] = pd.to_numeric(index['Preclose'])\n",
    "index"
   ]
  },
  {
   "cell_type": "code",
   "execution_count": 11,
   "metadata": {},
   "outputs": [
    {
     "ename": "NameError",
     "evalue": "name 'index' is not defined",
     "output_type": "error",
     "traceback": [
      "\u001b[1;31m---------------------------------------------------------------------------\u001b[0m",
      "\u001b[1;31mNameError\u001b[0m                                 Traceback (most recent call last)",
      "\u001b[1;32mUntitled-1.ipynb Cell 10\u001b[0m in \u001b[0;36m<cell line: 2>\u001b[1;34m()\u001b[0m\n\u001b[0;32m      <a href='vscode-notebook-cell:Untitled-1.ipynb?jupyter-notebook#X12sdW50aXRsZWQ%3D?line=0'>1</a>\u001b[0m \u001b[39m# 计算科技板块股票日收益率 两种：\u001b[39;00m\n\u001b[1;32m----> <a href='vscode-notebook-cell:Untitled-1.ipynb?jupyter-notebook#X12sdW50aXRsZWQ%3D?line=1'>2</a>\u001b[0m index[\u001b[39m'\u001b[39m\u001b[39mRaw_return\u001b[39m\u001b[39m'\u001b[39m] \u001b[39m=\u001b[39m index[\u001b[39m'\u001b[39m\u001b[39mClose\u001b[39m\u001b[39m'\u001b[39m] \u001b[39m/\u001b[39m index[\u001b[39m'\u001b[39m\u001b[39mPreclose\u001b[39m\u001b[39m'\u001b[39m] \u001b[39m-\u001b[39m \u001b[39m1\u001b[39m\n\u001b[0;32m      <a href='vscode-notebook-cell:Untitled-1.ipynb?jupyter-notebook#X12sdW50aXRsZWQ%3D?line=2'>3</a>\u001b[0m index[\u001b[39m'\u001b[39m\u001b[39mLog_return\u001b[39m\u001b[39m'\u001b[39m] \u001b[39m=\u001b[39m np\u001b[39m.\u001b[39mlog(index[\u001b[39m'\u001b[39m\u001b[39mClose\u001b[39m\u001b[39m'\u001b[39m]) \u001b[39m-\u001b[39m np\u001b[39m.\u001b[39mlog(index[\u001b[39m'\u001b[39m\u001b[39mPreclose\u001b[39m\u001b[39m'\u001b[39m])\n\u001b[0;32m      <a href='vscode-notebook-cell:Untitled-1.ipynb?jupyter-notebook#X12sdW50aXRsZWQ%3D?line=3'>4</a>\u001b[0m index[\u001b[39m'\u001b[39m\u001b[39mStupid_return\u001b[39m\u001b[39m'\u001b[39m] \u001b[39m=\u001b[39m \u001b[39m0\u001b[39m\n",
      "\u001b[1;31mNameError\u001b[0m: name 'index' is not defined"
     ]
    }
   ],
   "source": [
    "# 计算科技板块股票日收益率 两种：\n",
    "index['Raw_return'] = index['Close'] / index['Preclose'] - 1\n",
    "index['Log_return'] = np.log(index['Close']) - np.log(index['Preclose'])\n",
    "index['Stupid_return'] = 0\n",
    "index"
   ]
  },
  {
   "cell_type": "code",
   "execution_count": null,
   "metadata": {},
   "outputs": [],
   "source": [
    "for i in range(0,):\n",
    "    index.iloc[i,9] = index.iloc[i,4] / index.iloc[i,0] - 1\n",
    "\n",
    "index"
   ]
  },
  {
   "cell_type": "code",
   "execution_count": null,
   "metadata": {},
   "outputs": [],
   "source": [
    "# 两种计算方式的差\n",
    "index['delta_return'] = index['Raw_return'] - index['Log_return']\n",
    "print('平均来看，两种方式计算的收益率之间的区别为:',np.mean(index['delta_return'])*100,\"%\")"
   ]
  },
  {
   "cell_type": "markdown",
   "metadata": {
    "collapsed": false
   },
   "source": [
    "# 计算月、季和年度收益率 Calculate Monthly Quarterly and Yearly Return\n"
   ]
  },
  {
   "cell_type": "markdown",
   "metadata": {
    "collapsed": false
   },
   "source": [
    "## 月度收益率\n",
    "$t$ 月的收益率使用该月月末的收盘价 和 上个月$t - 1$月末的收盘价来计算\n",
    "\n",
    "* Raw Return: $R_t = \\frac{p_t - p_{t-1}}{p_{t-1}} $\n",
    "* Log Return: $r_t = log(p_t) - log(p_{t-1})$"
   ]
  },
  {
   "cell_type": "markdown",
   "metadata": {
    "collapsed": false
   },
   "source": [
    "### 使用resample函数"
   ]
  },
  {
   "cell_type": "markdown",
   "metadata": {
    "collapsed": false
   },
   "source": [
    "#### 对数回报率求和"
   ]
  },
  {
   "cell_type": "code",
   "execution_count": null,
   "metadata": {},
   "outputs": [],
   "source": [
    "Month_data = index.resample('m')['Log_return'].sum().to_frame() # R语言非常常见\n",
    "Month_data['Raw_Return'] = np.exp(Month_data['Log_return']) - 1\n",
    "Month_data"
   ]
  },
  {
   "cell_type": "markdown",
   "metadata": {
    "collapsed": false
   },
   "source": [
    "#### 取月末的价格计算"
   ]
  },
  {
   "cell_type": "code",
   "execution_count": null,
   "metadata": {},
   "outputs": [],
   "source": [
    "Month_data = index.resample('m')['Close'].last().to_frame()\n",
    "Month_data['Preclose'] = Month_data['Close'].shift(1)\n",
    "Month_data['Log_return'] = np.log(Month_data['Close']) - np.log(Month_data['Preclose'])\n",
    "Month_data"
   ]
  },
  {
   "cell_type": "markdown",
   "metadata": {
    "collapsed": false
   },
   "source": [
    "### 使用groupby函数"
   ]
  },
  {
   "cell_type": "code",
   "execution_count": null,
   "metadata": {},
   "outputs": [],
   "source": [
    "# “2012-12-31”日期格式 里面的year年份 month月份 day 直接提出取来\n",
    "index2 = index\n",
    "index2['year'] = index2.index.year\n",
    "index2['month'] = index2.index.month\n",
    "index2\n",
    "# 使用的时间、日期格式提取 字符串提出的方式 前四个字符当作年份 6-7字符是月份 提取出来的是字符串 变成数值"
   ]
  },
  {
   "cell_type": "code",
   "execution_count": null,
   "metadata": {},
   "outputs": [],
   "source": [
    "Month_data2 = pd.DataFrame(index.groupby(['year','month'])['Log_return'].sum())\n",
    "Month_data2"
   ]
  },
  {
   "cell_type": "code",
   "execution_count": null,
   "metadata": {},
   "outputs": [],
   "source": [
    "Month_data2 = pd.DataFrame(\n",
    "    index.groupby(['year', 'month'])['Log_return'].apply(lambda x: sum(x)))\n",
    "    # sum函数是python内置函数\n",
    "Month_data2"
   ]
  },
  {
   "cell_type": "markdown",
   "metadata": {},
   "source": [
    "# 描述性统计 Statistical Summary"
   ]
  },
  {
   "cell_type": "code",
   "execution_count": null,
   "metadata": {},
   "outputs": [],
   "source": [
    "daily_data = data['2012-12':'2022-12'].copy()\n",
    "daily_data['Close'] = pd.to_numeric(daily_data['Close'])\n",
    "daily_data['Preclose'] = pd.to_numeric(daily_data['Preclose'])\n",
    "# 计算科技板块股票收益率 两种：\n",
    "daily_data['Raw_return'] = daily_data['Close'] / daily_data['Preclose'] - 1\n",
    "daily_data['Log_return'] = np.log(daily_data['Close']) - np.log(daily_data['Preclose'])\n",
    "daily_data"
   ]
  },
  {
   "cell_type": "code",
   "execution_count": null,
   "metadata": {},
   "outputs": [],
   "source": [
    "Month_data = daily_data.resample('m')['Log_return'].sum().to_frame()\n",
    "Month_data['Raw_return'] = np.exp(Month_data['Log_return']) - 1\n",
    "Month_data"
   ]
  },
  {
   "cell_type": "code",
   "execution_count": null,
   "metadata": {},
   "outputs": [],
   "source": [
    "Quarter_data = daily_data.resample('Q')['Log_return'].sum().to_frame()\n",
    "Quarter_data['Raw_return'] = np.exp(Quarter_data['Log_return']) - 1\n",
    "Quarter_data"
   ]
  },
  {
   "cell_type": "code",
   "execution_count": null,
   "metadata": {},
   "outputs": [],
   "source": [
    "Year_data = daily_data.resample('Y')['Log_return'].sum().to_frame()\n",
    "Year_data['Raw_return'] = np.exp(Year_data['Log_return']) - 1\n",
    "Year_data"
   ]
  },
  {
   "cell_type": "markdown",
   "metadata": {},
   "source": [
    "# 分位数 quantile"
   ]
  },
  {
   "cell_type": "markdown",
   "metadata": {},
   "source": [
    "分位数（Quantile），亦称分位点，是指将一个随机变量的概率分布范围分为几个等份的数值点，常用的有中位数（即二分位数）、四分位数、百分位数等。\n",
    "\n",
    "举例说明，我们班上有10名同学，他们的期末成绩是\n",
    "\n",
    "【20，24，38，34，43，56，76，86，98，100】\n",
    "\n",
    "如果期末考试要让40%的不通过，60%的人通过，分数线是多少呢？"
   ]
  },
  {
   "cell_type": "markdown",
   "metadata": {},
   "source": [
    "常见的分类方法：\n",
    "\n",
    "- 中位数 Median\n",
    "  - 当N是奇数时\n",
    "    - $$m_{0.5}=X_{(N+1) / 2}$$\n",
    "  - 当N是偶数时\n",
    "    - $$m_{0.5}=\\frac{X_{(N / 2)}+X_{(N / 2+1)}}{2}$$\n",
    "- 四分位数 Quartile\n",
    "- 10分位数 常用在股票投资策略中"
   ]
  },
  {
   "cell_type": "markdown",
   "metadata": {},
   "source": [
    "Some q-quantiles have special names:\n",
    "\n",
    "- The only 2-quantile is called the median\n",
    "- The 3-quantiles are called tertiles or terciles \n",
    "- The 4-quantiles are called quartiles \n",
    "- The 5-quantiles are called quintiles \n",
    "- The 6-quantiles are called sextiles \n",
    "- The 7-quantiles are called septiles\n",
    "- The 8-quantiles are called octiles\n",
    "- The 10-quantiles are called deciles\n",
    "- The 12-quantiles are called duo-deciles or dodeciles\n",
    "- The 16-quantiles are called hexadeciles\n",
    "- The 20-quantiles are called ventiles, vigintiles, or demi-deciles \n",
    "- The 100-quantiles are called percentiles"
   ]
  },
  {
   "cell_type": "code",
   "execution_count": null,
   "metadata": {},
   "outputs": [],
   "source": [
    "from statistics import quantiles\n",
    "\n",
    "# quantiles函数里面的参数需要注意\n",
    "quantiles(daily_data['2012-12':'2022-12']['Raw_return'], n = 10, method='inclusive')"
   ]
  },
  {
   "cell_type": "code",
   "execution_count": null,
   "metadata": {},
   "outputs": [],
   "source": [
    "quantiles(Month_data['2012-12':'2022-12']['Raw_return'], n = 4)"
   ]
  },
  {
   "cell_type": "code",
   "execution_count": null,
   "metadata": {},
   "outputs": [],
   "source": [
    "quantiles(daily_data['2012-12':'2022-12']['Raw_return'], n = 10, method='exclusive')"
   ]
  },
  {
   "cell_type": "code",
   "execution_count": null,
   "metadata": {},
   "outputs": [],
   "source": [
    "seq = np.linspace(0,1,11)\n",
    "seq"
   ]
  },
  {
   "cell_type": "code",
   "execution_count": null,
   "metadata": {},
   "outputs": [],
   "source": [
    "np.quantile(daily_data['2012-12':'2022-12']['Raw_return'],q=seq)"
   ]
  },
  {
   "cell_type": "code",
   "execution_count": null,
   "metadata": {},
   "outputs": [],
   "source": [
    "arr = np.array([1,2,3,4,5,6,7,8,9,10,11,12]) # 共12个数\n",
    "np.quantile(arr, (0.25, 0.50, 0.75))"
   ]
  },
  {
   "cell_type": "code",
   "execution_count": null,
   "metadata": {},
   "outputs": [],
   "source": [
    "quantiles(arr, n = 4, method='exclusive')"
   ]
  },
  {
   "cell_type": "code",
   "execution_count": null,
   "metadata": {},
   "outputs": [],
   "source": [
    "quantiles(arr, n = 4, method='inclusive')"
   ]
  },
  {
   "cell_type": "markdown",
   "metadata": {},
   "source": [
    "# 波动率 Variance"
   ]
  },
  {
   "cell_type": "markdown",
   "metadata": {},
   "source": [
    "$$\\sigma^2=\\frac{\\sum(X-\\mu)^2}{N}$$"
   ]
  },
  {
   "cell_type": "code",
   "execution_count": null,
   "metadata": {},
   "outputs": [],
   "source": [
    "np.var(daily_data['2012-12':'2022-12']['Raw_return'])"
   ]
  },
  {
   "cell_type": "code",
   "execution_count": null,
   "metadata": {},
   "outputs": [],
   "source": [
    "m = np.mean(daily_data['2012-12':'2022-12']['Raw_return'])\n",
    "sum((daily_data['2012-12':'2022-12']['Raw_return'] - m)**2) / len(daily_data['2012-12':'2022-12']['Raw_return'])"
   ]
  },
  {
   "cell_type": "code",
   "execution_count": null,
   "metadata": {},
   "outputs": [],
   "source": [
    "np.std(daily_data['2012-12':'2022-12']['Raw_return'])"
   ]
  },
  {
   "cell_type": "code",
   "execution_count": null,
   "metadata": {},
   "outputs": [],
   "source": [
    "from math import sqrt\n",
    "\n",
    "sqrt(np.var(daily_data['2012-12':'2022-12']['Raw_return']))"
   ]
  },
  {
   "attachments": {},
   "cell_type": "markdown",
   "metadata": {},
   "source": [
    "每个月的波动率"
   ]
  },
  {
   "cell_type": "code",
   "execution_count": null,
   "metadata": {},
   "outputs": [],
   "source": [
    "monthly_var = daily_data.resample('m')['Raw_return'].var().to_frame()\n",
    "monthly_var.rename(columns={'Raw_return':'Variance'},inplace=True)\n",
    "monthly_var"
   ]
  },
  {
   "cell_type": "markdown",
   "metadata": {},
   "source": [
    "# 正态分布"
   ]
  },
  {
   "cell_type": "markdown",
   "metadata": {},
   "source": [
    "若随机变量X服从一个数学期望为 $\\mu$ 、方差为 $\\sigma^{2}$ 的正态分布，记为 $\\mathrm{N}\\left(\\mu, \\sigma^{2}\\right)$ 。其概率密度函数为正态分布的期望值决定了 其位置，其标准差$\\sigma$决定了分布的幅度。当 $\\mu=0, \\sigma=1$ 时的正态分布是标准正态分布。\n",
    "\n",
    "若随机变量 $X$ 服从一个位置参数为 $\\mu$ 、尺度参数为 $\\sigma$ 的概率分布，且其概率密度函数为 \n",
    "$$\n",
    "f(x)=\\frac{1}{\\sqrt{2 \\pi} \\sigma} \\exp \\left(-\\frac{(x-\\mu)^{2}}{2 \\sigma^{2}}\\right)\n",
    "$$\n",
    "则这个随机变量就称为正态随机变量, 正态随机变量服从的分布就称为正态分布, 记作 $X \\sim N\\left(\\mu, \\sigma^{2}\\right)$, 读作 $X$ 服从 $N\\left(\\mu, \\sigma^{2}\\right)$, 或 $X$ 服从正态分布。\n",
    "\n",
    " 若 $X \\sim N\\left(\\mu, \\sigma^{2}\\right), Y=\\frac{X-\\mu}{\\sigma} \\sim N(0,1)$.\n",
    " \n",
    " 当 $\\mu=0, \\sigma=1$ 时，正态分布就成为标准正态分布\n",
    "$$\n",
    "f(x)=\\frac{1}{\\sqrt{2 \\pi}} e^{\\left(-\\frac{x^{2}}{2}\\right)}\n",
    "$$"
   ]
  },
  {
   "cell_type": "markdown",
   "metadata": {},
   "source": [
    "# 偏度和峰度"
   ]
  },
  {
   "attachments": {},
   "cell_type": "markdown",
   "metadata": {},
   "source": [
    "* 偏度（Skewness）是统计数据分布偏斜方向和程度的度量，是统计数据分布非对称程度的数字特征。定义上偏度是样本的三阶标准化矩。\n",
    "$$\n",
    "S=\\frac{1}{n} \\sum_{i=1}^{n}\\left[\\left(\\frac{X_{i}-\\mu}{\\sigma}\\right)^{3}\\right]\n",
    "$$\n",
    "\n",
    "其中 $\\mu$ 是均值， $\\sigma$ 是标准差。定义中包括正态分布（偏度=0），右偏分布（正偏，>0）,左偏分布（负偏，<0）\n"
   ]
  },
  {
   "attachments": {},
   "cell_type": "markdown",
   "metadata": {},
   "source": [
    "* 峰度（Kurtosis）表征概率密度分布曲线在平均值处峰度高低的特征。直观来看，峰度反应了峰部的尖度。其计算方法为\n",
    "   $$K=\\frac{1}{n} \\sum_{i=1}^{n}\\left[\\left(\\frac{X_{i}-\\mu}{\\sigma}\\right)^{4}\\right]$$\n",
    "    其中 $\\mu$ 是均值， $\\sigma$ 是标准差。定义中包括正态分布（峰度=3），厚尾（峰度>3）,瘦尾（峰度<3）。"
   ]
  },
  {
   "cell_type": "code",
   "execution_count": null,
   "metadata": {},
   "outputs": [],
   "source": [
    "# Daily data\n",
    "daily_data['2012-12':'2022-12']['Raw_return'].skew()\n",
    "daily_data['2012-12':'2022-12']['Raw_return'].kurt()\n",
    "scipy.stats.kurtosis(daily_data['2012-12':'2022-12']['Raw_return'],fisher=False) - 3"
   ]
  },
  {
   "cell_type": "code",
   "execution_count": null,
   "metadata": {},
   "outputs": [],
   "source": [
    "# Monthly data\n",
    "Month_data['2012-12':'2022-12']['Raw_return'].skew()\n",
    "Month_data['2012-12':'2022-12']['Raw_return'].kurt()"
   ]
  },
  {
   "cell_type": "code",
   "execution_count": null,
   "metadata": {},
   "outputs": [],
   "source": [
    "# Quarterly data\n",
    "Quarter_data['2012-12':'2022-12']['Raw_return'].skew()\n",
    "Quarter_data['2012-12':'2022-12']['Raw_return'].kurt()"
   ]
  },
  {
   "cell_type": "code",
   "execution_count": null,
   "metadata": {},
   "outputs": [],
   "source": [
    "Year_data['2012-12':'2022-12']['Raw_return'].skew()\n",
    "Year_data['2012-12':'2022-12']['Raw_return'].kurt()"
   ]
  },
  {
   "cell_type": "markdown",
   "metadata": {},
   "source": [
    "# 标准正态分布的直方图"
   ]
  },
  {
   "cell_type": "code",
   "execution_count": null,
   "metadata": {},
   "outputs": [],
   "source": [
    "# 根据均值、标准差,求指定范围的正态分布概率值\n",
    "\n",
    "def normfun(x, mu, sigma):\n",
    "  pdf = np.exp(-((x - mu)**2)/(2*sigma**2)) / (sigma * np.sqrt(2*np.pi))\n",
    "  return pdf\n",
    "\n",
    "\n",
    "# 生成高斯分布的概率密度随机数\n",
    "result = np.random.normal(0, 1, 1000000) # mean 0 and standard deviation 1\n",
    "\n",
    "# np.arange()\n",
    "# 函数返回一个有终点和起点的固定步长的排列，如[1,2,3,4,5]，起点是1，终点是6，步长为1。\n",
    "# 参数个数情况： np.arange()函数分为一个参数，两个参数，三个参数三种情况\n",
    "# 1）一个参数时，参数值为终点，起点取默认值0，步长取默认值1。\n",
    "# 2）两个参数时，第一个参数为起点，第二个参数为终点，步长取默认值1。\n",
    "# 3）三个参数时，第一个参数为起点，第二个参数为终点，第三个参数为步长。其中步长支持小数\n",
    "\n",
    "x = np.arange(min(result), max(result),0.01)\n",
    "\n",
    "# 设定 y 轴，载入刚才的正态分布函数\n",
    "y = normfun(x, result.mean(), result.std())\n",
    "plt.plot(x, y) # 这里画出理论的正态分布概率曲线\n",
    " \n",
    "# 这里画出实际的参数概率与取值关系\n",
    "fig = plt.hist(result, bins=100, rwidth=1, density=True) # bins个柱状图,宽度是rwidth(0~1),=1没有缝隙\n",
    "plt.title('distribution')\n",
    "plt.xlabel('temperature')\n",
    "plt.ylabel('probability')\n",
    "# 输出\n",
    "plt.show() # 最后图片的概率和不为1是因为正态分布是从负无穷到正无穷,这里指截取了数据最小值到最大值的分布"
   ]
  },
  {
   "cell_type": "markdown",
   "metadata": {},
   "source": [
    "# 在日收益率直方图上添加正态分布密度曲线"
   ]
  },
  {
   "cell_type": "code",
   "execution_count": null,
   "metadata": {},
   "outputs": [],
   "source": [
    "retmean = daily_data['2012-12':'2022-12']['Raw_return'].mean()\n",
    "retstd = daily_data['2012-12':'2022-12']['Raw_return'].std()\n",
    "retmin = daily_data['2012-12':'2022-12']['Raw_return'].min()\n",
    "retmax = daily_data['2012-12':'2022-12']['Raw_return'].max()\n",
    "\n",
    "\n",
    "def normfun(x, mu, sigma):\n",
    "    pdf = np.exp(-((x - mu)**2) /\n",
    "                 (2 * sigma**2)) / (sigma * np.sqrt(2 * np.pi))\n",
    "    return pdf\n",
    "\n",
    "\n",
    "x = np.arange(retmin, retmax, 0.001) # 0.001 0.002 0.003 0.004.。。。 0.099 0.100  0.101\n",
    "y = normfun(x, retmean, retstd)\n",
    "fig = plt.figure(figsize=(10, 5))\n",
    "plt.plot(x, y)\n",
    "\n",
    "fig = plt.hist(daily_data['2012-12':'2022-12']['Raw_return'], # index daily market excess return\n",
    "               bins=1000,\n",
    "               histtype='bar',\n",
    "               color='r',\n",
    "               alpha=0.9)\n",
    "plt.xticks(rotation=90, fontsize=8) # x轴显示方法\n",
    "plt.title('Distribution')\n",
    "plt.xlabel('Market Return From 2012 to 2022')\n",
    "plt.ylabel('Probability')"
   ]
  },
  {
   "cell_type": "markdown",
   "metadata": {},
   "source": [
    "# 在月收益率直方图上添加正态分布密"
   ]
  },
  {
   "cell_type": "code",
   "execution_count": null,
   "metadata": {},
   "outputs": [],
   "source": [
    "retmean = Month_data['2012-12':'2022-12']['Raw_return'].mean()\n",
    "retstd = Month_data['2012-12':'2022-12']['Raw_return'].std()\n",
    "retmin = Month_data['2012-12':'2022-12']['Raw_return'].min()\n",
    "retmax = Month_data['2012-12':'2022-12']['Raw_return'].max()\n",
    "\n",
    "\n",
    "def normfun(x, mu, sigma):\n",
    "    pdf = np.exp(-((x - mu)**2) /\n",
    "                 (2 * sigma**2)) / (sigma * np.sqrt(2 * np.pi))\n",
    "    return pdf\n",
    "\n",
    "\n",
    "x = np.arange(retmin, retmax, 0.001)\n",
    "y = normfun(x, retmean, retstd)\n",
    "fig = plt.figure(figsize=(10, 5)) # 图片大小 10，5\n",
    "plt.plot(x, y)\n",
    "\n",
    "fig = plt.hist(Month_data['2012-12':'2022-12']['Raw_return'],\n",
    "               bins=100,\n",
    "               histtype='bar',\n",
    "               color='r',\n",
    "               alpha=0.9)\n",
    "plt.xticks(rotation=90, fontsize=8)\n",
    "plt.title('Distribution')\n",
    "plt.xlabel('Market Return From 2012 to 2022')\n",
    "plt.ylabel('Probability')"
   ]
  },
  {
   "cell_type": "markdown",
   "metadata": {},
   "source": [
    "# 平稳性 stationary"
   ]
  },
  {
   "cell_type": "code",
   "execution_count": null,
   "metadata": {},
   "outputs": [],
   "source": [
    "from statsmodels.tsa.stattools import adfuller as ADF\n",
    "print('原始序列的ADF检验结果为:', ADF(daily_data['2012-12':'2022-12']['Raw_return']))"
   ]
  },
  {
   "cell_type": "markdown",
   "metadata": {},
   "source": [
    "## 固定比例法\n",
    "\n",
    "这种方法非常容易理解，我们把上下1%的值重新设置,若大于99%分位数的数值，则将其设置为99%分位数值，若低于1%分位数的数值，则将其重新设置为1%分位数值。"
   ]
  },
  {
   "cell_type": "code",
   "execution_count": null,
   "metadata": {},
   "outputs": [],
   "source": [
    "Month_data['2012-12':'2022-12']['Raw_return'].max()\n",
    "Month_data['2012-12':'2022-12']['Raw_return'].min()"
   ]
  },
  {
   "cell_type": "code",
   "execution_count": null,
   "metadata": {},
   "outputs": [],
   "source": [
    "Month_data_fix = Month_data['2012-12':'2022-12'].copy()\n",
    "Month_data_fix"
   ]
  },
  {
   "cell_type": "code",
   "execution_count": null,
   "metadata": {},
   "outputs": [],
   "source": [
    "Month_data_fix[Month_data_fix['Raw_return'] > Month_data_fix['Raw_return'].quantile(\n",
    "    0.99)] = Month_data_fix['Raw_return'].quantile(0.99)\n",
    "Month_data_fix[Month_data_fix['Raw_return'] < Month_data_fix['Raw_return'].quantile(\n",
    "    0.01)] = Month_data_fix['Raw_return'].quantile(0.01)\n",
    "Month_data_fix"
   ]
  },
  {
   "cell_type": "code",
   "execution_count": null,
   "metadata": {},
   "outputs": [],
   "source": [
    "Month_data['2012-12':'2020-12']['Raw_return'].describe().round(8)\n",
    "Month_data_fix['2012-12':'2020-12']['Raw_return'].describe().round(8)"
   ]
  },
  {
   "cell_type": "markdown",
   "metadata": {},
   "source": [
    "## 均值标准差法\n",
    "\n",
    "这种想法的思路来自正态分布,假设$X \\sim N\\left(\\mu, \\sigma^{2}\\right)$，那么\n",
    "\n",
    "\n",
    "$P(|X-\\mu|>k * \\sigma)= \\begin{cases}0.317, & k=1 \\\\ 0.046, & k=2 \\\\ 0.003, & k=3\\end{cases}$\n",
    "\n",
    "通常把**3倍**标准差之外的值都视为异常值，不过要注意的是样本均值和样本标准差都不是稳健统计量，其计算本身受极值的影响就非常大，所以可能会出现一种情况，那就是我们从数据分布图上能非常明显地看到异常点，但按照上面的计算方法，这个异常点可能仍在均值3倍标准差的范围内。因此按照这种方法剔除掉异常值后,需要重新观察数据的分布情况，看是否仍然存在显著异常点,若存在则继续重复上述步骤寻找异常点."
   ]
  },
  {
   "cell_type": "code",
   "execution_count": null,
   "metadata": {},
   "outputs": [],
   "source": [
    "Month_data_ms = Month_data['2012-12':'2022-12'].copy()\n",
    "\n",
    "Month_data_ms[Month_data_ms['Raw_return'] >= Month_data_ms['Raw_return'].mean() +\n",
    "         3 * Month_data_ms['Raw_return'].std()] = Month_data_ms['Raw_return'].mean(\n",
    "         ) + 3 * Month_data_ms['Raw_return'].std()\n",
    "\n",
    "Month_data_ms[Month_data_ms['Raw_return'] <= Month_data_ms['Raw_return'].mean() -\n",
    "         3 * Month_data_ms['Raw_return'].std()] = Month_data_ms['Raw_return'].mean(\n",
    "         ) - 3 * Month_data_ms['Raw_return'].std()\n",
    "Month_data_ms"
   ]
  },
  {
   "cell_type": "code",
   "execution_count": null,
   "metadata": {},
   "outputs": [],
   "source": [
    "Month_data['2012-12':'2022-12']['Raw_return'].describe().round(8)\n",
    "Month_data_ms['2012-12':'2022-12']['Raw_return'].describe().round(8)"
   ]
  },
  {
   "cell_type": "markdown",
   "metadata": {},
   "source": [
    "## MAD法\n",
    "\n",
    "**MAD法**是针对均值标准差方法的改进,把均值和标准差替换成稳健统计量，样本均值用样本中位数代替，样本标准差用样本MAD( median absolute deviation)代替：\n",
    "\n",
    "\\begin{aligned}\n",
    "&\\operatorname{md}=\\operatorname{median}\\left(x_{i}, i=1,2, \\cdots, n\\right) \\\\\n",
    "&\\mathrm{MAD}=\\operatorname{mean}\\left(\\left|x_{i}-\\mathrm{md}\\right|, i=1,2, \\cdots, n\\right)\n",
    "\\end{aligned}\n",
    "\n",
    "一般将偏离中位数3倍以上的数据作为异常值，和均值标淮差法相比，其中位数和MAD不受异常值的影响。"
   ]
  },
  {
   "cell_type": "code",
   "execution_count": null,
   "metadata": {},
   "outputs": [],
   "source": [
    "Month_data_median = Month_data['2012-12':'2022-12'].copy()\n",
    "\n",
    "median = np.median(Month_data_median['Raw_return'])\n",
    "MAD = np.mean(abs(Month_data_median['Raw_return'] - median))\n",
    "\n",
    "Month_data_median[Month_data_median['Raw_return'] >= 3 * MAD + median] = 3 * MAD + median\n",
    "Month_data_median[Month_data_median['Raw_return'] <= -3 * MAD + median] = -3 * MAD + median\n",
    "\n",
    "Month_data_median"
   ]
  },
  {
   "cell_type": "code",
   "execution_count": null,
   "metadata": {},
   "outputs": [],
   "source": [
    "Month_data['2012-12':'2022-12']['Raw_return'].describe().round(8)\n",
    "Month_data_median['2012-12':'2022-12']['Raw_return'].describe().round(8)"
   ]
  },
  {
   "cell_type": "markdown",
   "metadata": {},
   "source": [
    "# 参数假设检验"
   ]
  },
  {
   "cell_type": "code",
   "execution_count": null,
   "metadata": {},
   "outputs": [],
   "source": [
    "Month_data['2012-12':'2022-12']['Raw_return'].mean()"
   ]
  },
  {
   "cell_type": "markdown",
   "metadata": {},
   "source": [
    "## 基本理论\n",
    "\n",
    "为了推断总体的某些性质，我们会提出;总体性质的各种假设。假设检验就是根据样本提供的信息对所提出的假设作出判断的过程。\n",
    "\n",
    "原假设是我们有怀疑，想要拒绝的假设，记为$H_0$,备择假设是我们拒绝了原假设后得到的结论,记为$H_a$.\n",
    "\n",
    "假设都是关于总体参数的，例如，我们想知道总体均值是否等于某个常数$\\mu_0$，那么原假设是：$H_0: \\mu = \\mu_0$，则备择假设是：$H_a: \\mu \\ne \\mu_0$.\n",
    "\n",
    "上面这种假设，我们称为双尾检验，因为备择假设是双边的。\n",
    "\n",
    "下面两种假设检验称为单尾检验：\n",
    "\n",
    "\\begin{array}{ll}\n",
    "H_{0}: \\mu \\geqslant \\mu_{0} & H_{\\alpha}: \\mu<\\mu_{0} \\\\\n",
    "H_{0}: \\mu \\leqslant \\mu_{0} & H_{\\alpha}: \\mu>\\mu_{0}\n",
    "\\end{array}\n",
    "\n",
    "注意：无论是单尾还是双尾检验，等号永远都在原假设一边，这是用来判断原来假设的唯一标准."
   ]
  },
  {
   "cell_type": "code",
   "execution_count": null,
   "metadata": {},
   "outputs": [],
   "source": [
    "daily_data['2012-12':'2022-12']['Raw_return'].mean()"
   ]
  },
  {
   "cell_type": "code",
   "execution_count": null,
   "metadata": {},
   "outputs": [],
   "source": [
    "stats.ttest_1samp(daily_data['2012-12':'2022-12']['Raw_return'],0)"
   ]
  },
  {
   "cell_type": "code",
   "execution_count": null,
   "metadata": {},
   "outputs": [],
   "source": [
    "stats.ttest_1samp(Month_data['2012-12':'2022-12']['Raw_return'],0)"
   ]
  },
  {
   "cell_type": "markdown",
   "metadata": {},
   "source": [
    "# 一元线性回归分析的基本理论"
   ]
  },
  {
   "cell_type": "markdown",
   "metadata": {},
   "source": [
    "## 简单的一元OLS回归\n",
    "\n",
    "\n",
    "动量效应（Momentum effect）一般又称“惯性效应”。动量效应是由Jegadeesh和Titman（1993）提出的，是指股票的收益率有延续原来的运动方向的趋势，即过去一段时间收益率较高的股票在未来获得的收益率仍会高于过去收益率较低的股票。\n",
    "\n",
    "在下面的模型里面，我们考虑中国股票市场收益率在时间层面上的动量效应。"
   ]
  },
  {
   "cell_type": "markdown",
   "metadata": {},
   "source": [
    "Model:\n",
    "$$\n",
    "r_{t} = \\alpha + \\beta * r_{t-1} + \\epsilon_{t}\n",
    "$$\n",
    "\n",
    "where $r_t$ is the raw return of stock market on month $t$.\n",
    "\n",
    "* H0: $\\beta = 0$\n",
    "* H1: $\\beta \\ne 0$"
   ]
  },
  {
   "cell_type": "code",
   "execution_count": null,
   "metadata": {},
   "outputs": [],
   "source": [
    "# 使用t-1月的收益率预测t月的收益率\n",
    "# Newey West 检验 自相关\n",
    "# 一般在日数据里面，lag12，月lag6，季度lag2\n",
    "\n",
    "model1_mom = smf.ols('Raw_return ~ lag_Raw_return',\n",
    "                 data=Month_data['2012-12':'2022-12']).fit(\n",
    "                     cov_type='HAC', cov_kwds={'maxlags': 6})\n",
    "print(model1_mom.summary())"
   ]
  },
  {
   "attachments": {},
   "cell_type": "markdown",
   "metadata": {},
   "source": [
    "所以上述模型的结果是：\n",
    "\n",
    "$$r_{t} =  +  * r_{t-1} + \\epsilon_{t} $$\n"
   ]
  },
  {
   "cell_type": "code",
   "execution_count": null,
   "metadata": {},
   "outputs": [],
   "source": [
    "Quarter_data['lag_Raw_return'] = Quarter_data['Raw_return'].shift(1)\n",
    "Quarter_data"
   ]
  },
  {
   "cell_type": "code",
   "execution_count": null,
   "metadata": {},
   "outputs": [],
   "source": [
    "model2_mom = smf.ols('Raw_return ~ lag_Raw_return',\n",
    "                 data=Quarter_data['2012-12':'2022-12']).fit(\n",
    "                     cov_type='HAC', cov_kwds={'maxlags': 2})\n",
    "print(model2_mom.summary())"
   ]
  },
  {
   "cell_type": "code",
   "execution_count": null,
   "metadata": {},
   "outputs": [],
   "source": [
    "daily_data['lag_Raw_return'] = daily_data['Raw_return'].shift(1)\n",
    "daily_data"
   ]
  },
  {
   "cell_type": "code",
   "execution_count": null,
   "metadata": {},
   "outputs": [],
   "source": [
    "model3_mom = smf.ols('Raw_return ~ lag_Raw_return',\n",
    "                 data=daily_data['2012-12':'2022-12']).fit(\n",
    "                     cov_type='HAC', cov_kwds={'maxlags': 2})\n",
    "print(model3_mom.summary())"
   ]
  },
  {
   "cell_type": "markdown",
   "metadata": {},
   "source": [
    "### 整合结果"
   ]
  },
  {
   "cell_type": "code",
   "execution_count": null,
   "metadata": {},
   "outputs": [],
   "source": [
    "from statsmodels.iolib.summary2 import summary_col\n",
    "\n",
    "info_dict = {'No. observations': lambda x: f\"{int(x.nobs):d}\"}\n",
    "\n",
    "results_table = summary_col(results=[model1_mom, model2_mom, model3_mom],\n",
    "                            float_format='%0.3f', #数据显示的格式，默认四位小数\n",
    "                            stars=True, # 是否有*，True为有\n",
    "                            model_names=['Month MOM', 'Quarter MOM', 'Daily MOM'],\n",
    "                            info_dict=info_dict,\n",
    "                            regressor_order=['Intercept', 'lag_Raw_Return'])\n",
    "\n",
    "results_table.add_title(\n",
    "    'Table - OLS Regressions: Forecast Stock Market Return')\n",
    "\n",
    "print(results_table)"
   ]
  },
  {
   "cell_type": "code",
   "execution_count": 1,
   "metadata": {},
   "outputs": [
    {
     "ename": "NameError",
     "evalue": "name 'pd' is not defined",
     "output_type": "error",
     "traceback": [
      "\u001b[1;31m---------------------------------------------------------------------------\u001b[0m",
      "\u001b[1;31mNameError\u001b[0m                                 Traceback (most recent call last)",
      "\u001b[1;32mUntitled-1.ipynb Cell 108\u001b[0m in \u001b[0;36m<cell line: 1>\u001b[1;34m()\u001b[0m\n\u001b[1;32m----> <a href='vscode-notebook-cell:Untitled-1.ipynb?jupyter-notebook#Y212sdW50aXRsZWQ%3D?line=0'>1</a>\u001b[0m inflation \u001b[39m=\u001b[39m pd\u001b[39m.\u001b[39mread_csv(\u001b[39m'\u001b[39m\u001b[39minflation.csv\u001b[39m\u001b[39m'\u001b[39m)\n\u001b[0;32m      <a href='vscode-notebook-cell:Untitled-1.ipynb?jupyter-notebook#Y212sdW50aXRsZWQ%3D?line=1'>2</a>\u001b[0m inflation[\u001b[39m'\u001b[39m\u001b[39mmonth\u001b[39m\u001b[39m'\u001b[39m] \u001b[39m=\u001b[39m pd\u001b[39m.\u001b[39mto_datetime(inflation[\u001b[39m'\u001b[39m\u001b[39mmonth\u001b[39m\u001b[39m'\u001b[39m],\u001b[39mformat\u001b[39m\u001b[39m=\u001b[39m\u001b[39m'\u001b[39m\u001b[39m%\u001b[39m\u001b[39mY/\u001b[39m\u001b[39m%\u001b[39m\u001b[39mm/\u001b[39m\u001b[39m%d\u001b[39;00m\u001b[39m'\u001b[39m)\n\u001b[0;32m      <a href='vscode-notebook-cell:Untitled-1.ipynb?jupyter-notebook#Y212sdW50aXRsZWQ%3D?line=2'>3</a>\u001b[0m inflation\u001b[39m.\u001b[39mset_index(\u001b[39m'\u001b[39m\u001b[39mmonth\u001b[39m\u001b[39m'\u001b[39m,inplace\u001b[39m=\u001b[39m\u001b[39mTrue\u001b[39;00m)\n",
      "\u001b[1;31mNameError\u001b[0m: name 'pd' is not defined"
     ]
    }
   ],
   "source": [
    "inflation = pd.read_csv('inflation.csv')\n",
    "inflation['month'] = pd.to_datetime(inflation['month'],format='%Y/%m/%d')\n",
    "inflation.set_index('month',inplace=True)\n",
    "inflation.sort_values(by=['month'],axis=0,ascending=True)"
   ]
  },
  {
   "attachments": {},
   "cell_type": "markdown",
   "metadata": {},
   "source": [
    "工业品出厂价格指数ppi可视化"
   ]
  },
  {
   "cell_type": "code",
   "execution_count": 11,
   "metadata": {},
   "outputs": [
    {
     "ename": "NameError",
     "evalue": "name 'plt' is not defined",
     "output_type": "error",
     "traceback": [
      "\u001b[1;31m---------------------------------------------------------------------------\u001b[0m",
      "\u001b[1;31mNameError\u001b[0m                                 Traceback (most recent call last)",
      "\u001b[1;32mUntitled-1.ipynb Cell 111\u001b[0m in \u001b[0;36m<cell line: 1>\u001b[1;34m()\u001b[0m\n\u001b[1;32m----> <a href='vscode-notebook-cell:Untitled-1.ipynb?jupyter-notebook#Y243sdW50aXRsZWQ%3D?line=0'>1</a>\u001b[0m fig\u001b[39m=\u001b[39mplt\u001b[39m.\u001b[39mfigure(figsize\u001b[39m=\u001b[39m(\u001b[39m50\u001b[39m,\u001b[39m5\u001b[39m))\n\u001b[0;32m      <a href='vscode-notebook-cell:Untitled-1.ipynb?jupyter-notebook#Y243sdW50aXRsZWQ%3D?line=1'>2</a>\u001b[0m plt\u001b[39m.\u001b[39mplot(\u001b[39m'\u001b[39m\u001b[39mppi\u001b[39m\u001b[39m'\u001b[39m,\u001b[39m#作图的变量名称\u001b[39;00m\n\u001b[0;32m      <a href='vscode-notebook-cell:Untitled-1.ipynb?jupyter-notebook#Y243sdW50aXRsZWQ%3D?line=2'>3</a>\u001b[0m     \u001b[39m'\u001b[39m\u001b[39m^-r\u001b[39m\u001b[39m'\u001b[39m, \u001b[39m#线的类型\u001b[39;00m\n\u001b[0;32m      <a href='vscode-notebook-cell:Untitled-1.ipynb?jupyter-notebook#Y243sdW50aXRsZWQ%3D?line=3'>4</a>\u001b[0m     label\u001b[39m=\u001b[39m\u001b[39m'\u001b[39m\u001b[39mPPI\u001b[39m\u001b[39m'\u001b[39m,\u001b[39m#标识\u001b[39;00m\n\u001b[0;32m      <a href='vscode-notebook-cell:Untitled-1.ipynb?jupyter-notebook#Y243sdW50aXRsZWQ%3D?line=4'>5</a>\u001b[0m     linewidth \u001b[39m=\u001b[39m\u001b[39m1\u001b[39m, \u001b[39m#线的粗细\u001b[39;00m\n\u001b[0;32m      <a href='vscode-notebook-cell:Untitled-1.ipynb?jupyter-notebook#Y243sdW50aXRsZWQ%3D?line=5'>6</a>\u001b[0m     data\u001b[39m=\u001b[39mMonth_data2)\n\u001b[0;32m      <a href='vscode-notebook-cell:Untitled-1.ipynb?jupyter-notebook#Y243sdW50aXRsZWQ%3D?line=7'>8</a>\u001b[0m plt\u001b[39m.\u001b[39mtitle(\u001b[39m\"\u001b[39m\u001b[39mProducer Price Index\u001b[39m\u001b[39m\"\u001b[39m)\n",
      "\u001b[1;31mNameError\u001b[0m: name 'plt' is not defined"
     ]
    }
   ],
   "source": [
    "fig=plt.figure(figsize=(50,5))\n",
    "plt.plot('ppi',#作图的变量名称\n",
    "    '^-r', #线的类型\n",
    "    label='PPI',#标识\n",
    "    linewidth =1, #线的粗细\n",
    "    data=Month_data2)\n",
    "    \n",
    "plt.title(\"Producer Price Index\")\n",
    "plt.xlabel('Month')#横坐标标题 x轴\n",
    "plt.ylabel('PPI')#纵坐标标题 y轴\n",
    "\n",
    "year_freq=pd.date_range(start='2012',end='2023',freq='Y')\n",
    "c=plt.xticks(year_freq,year_freq.year,rotation=270,fontsize=10)"
   ]
  },
  {
   "cell_type": "markdown",
   "metadata": {},
   "source": [
    "# 月度数据的预测\n",
    "\n",
    "A simple linear regression of an asset return on one or a few lagged predictors of interest is the most popular econometric approach for testing for return predictability. For simplicity, consider a univariate predictive regression of the period- $(t + 1)$ stock market return $r_{t+1}$ on a single predictor variable $x_t$:\n",
    "$$\n",
    "r_{t+1}=\\alpha+\\beta x_{t}+\\varepsilon_{t+1}\n",
    "$$\n",
    "where $\\varepsilon_{t+1}$ is a zero-mean, unpredictable disturbance term. When $x_t$ is the inflation rate, dividend yield, book-to-price ratio, or turnover. Many researchers find that $\\beta$ is significantly different from zero; that is, there is in-sample evidence of stock market return predictability.\n",
    "\n",
    "* H0:$\\beta = 0$\n",
    "* H1:$\\beta \\ne 0$(我们需要通过理论分析，得出$\\beta$的符号)"
   ]
  },
  {
   "cell_type": "code",
   "execution_count": null,
   "metadata": {},
   "outputs": [],
   "source": [
    "Month_data.reset_index(inplace=True)\n",
    "Month_data"
   ]
  },
  {
   "cell_type": "code",
   "execution_count": null,
   "metadata": {},
   "outputs": [],
   "source": [
    "Month_data.rename(columns={'Day':'month'},inplace=True)\n",
    "Month_data"
   ]
  },
  {
   "cell_type": "code",
   "execution_count": null,
   "metadata": {},
   "outputs": [],
   "source": [
    "reg_data = pd.merge(Month_data,inflation,left_on='month',right_on='month')\n",
    "reg_data"
   ]
  },
  {
   "cell_type": "code",
   "execution_count": null,
   "metadata": {},
   "outputs": [],
   "source": [
    "reg_data.set_index('month',inplace=True)\n",
    "reg_data"
   ]
  },
  {
   "cell_type": "code",
   "execution_count": null,
   "metadata": {},
   "outputs": [],
   "source": [
    "reg_data2 = pd.merge(Month_data,inflation,on = 'month')\n",
    "reg_data2"
   ]
  },
  {
   "cell_type": "code",
   "execution_count": null,
   "metadata": {},
   "outputs": [],
   "source": [
    "reg_data3 = pd.merge(Month_data,inflation,how='right',on = 'month')\n",
    "reg_data3"
   ]
  },
  {
   "cell_type": "markdown",
   "metadata": {},
   "source": [
    "## 描述性统计 Summary\n"
   ]
  },
  {
   "cell_type": "code",
   "execution_count": null,
   "metadata": {},
   "outputs": [],
   "source": [
    "reg_data['ppi'].describe().round(5)"
   ]
  },
  {
   "cell_type": "code",
   "execution_count": null,
   "metadata": {},
   "outputs": [],
   "source": [
    "reg_data['ppi'].skew()\n",
    "reg_data['ppi'].kurt()"
   ]
  },
  {
   "cell_type": "markdown",
   "metadata": {},
   "source": [
    "## OLS 回归结果"
   ]
  },
  {
   "cell_type": "code",
   "execution_count": null,
   "metadata": {},
   "outputs": [],
   "source": [
    "reg_data['lppi'] = reg_data['ppi'].shift(2)\n",
    "model_ppi = smf.ols('Raw_return ~ lppi',\n",
    "                 data=reg_data['2012-12':'2022-12']).fit(\n",
    "                     cov_type='HAC', cov_kwds={'maxlags': 6})\n",
    "print(model_ppi.summary())"
   ]
  },
  {
   "cell_type": "markdown",
   "metadata": {},
   "source": [
    "## 预期收益率 Expected Return / Conditional Return"
   ]
  },
  {
   "cell_type": "code",
   "execution_count": 9,
   "metadata": {},
   "outputs": [
    {
     "ename": "NameError",
     "evalue": "name 'reg_data' is not defined",
     "output_type": "error",
     "traceback": [
      "\u001b[1;31m---------------------------------------------------------------------------\u001b[0m",
      "\u001b[1;31mNameError\u001b[0m                                 Traceback (most recent call last)",
      "\u001b[1;32mUntitled-1.ipynb Cell 117\u001b[0m in \u001b[0;36m<cell line: 1>\u001b[1;34m()\u001b[0m\n\u001b[1;32m----> <a href='vscode-notebook-cell:Untitled-1.ipynb?jupyter-notebook#Y222sdW50aXRsZWQ%3D?line=0'>1</a>\u001b[0m data \u001b[39m=\u001b[39m reg_data[\u001b[39m'\u001b[39m\u001b[39m2012-12\u001b[39m\u001b[39m'\u001b[39m:\u001b[39m'\u001b[39m\u001b[39m2022-12\u001b[39m\u001b[39m'\u001b[39m]\u001b[39m.\u001b[39mcopy()\n\u001b[0;32m      <a href='vscode-notebook-cell:Untitled-1.ipynb?jupyter-notebook#Y222sdW50aXRsZWQ%3D?line=1'>2</a>\u001b[0m data[\u001b[39m'\u001b[39m\u001b[39mfitted_return\u001b[39m\u001b[39m'\u001b[39m] \u001b[39m=\u001b[39m  model_ppi\u001b[39m.\u001b[39mfittedvalues\n\u001b[0;32m      <a href='vscode-notebook-cell:Untitled-1.ipynb?jupyter-notebook#Y222sdW50aXRsZWQ%3D?line=3'>4</a>\u001b[0m fig \u001b[39m=\u001b[39m plt\u001b[39m.\u001b[39mfigure(figsize\u001b[39m=\u001b[39m(\u001b[39m10\u001b[39m, \u001b[39m5\u001b[39m))\n",
      "\u001b[1;31mNameError\u001b[0m: name 'reg_data' is not defined"
     ]
    }
   ],
   "source": [
    "data = reg_data['2012-12':'2022-12'].copy()\n",
    "data['fitted_return'] =  model_ppi.fittedvalues\n",
    "\n",
    "fig = plt.figure(figsize=(10, 5))\n",
    "plt.plot('Raw_return',\n",
    "         '-r',\n",
    "         label='ret',\n",
    "         linewidth=1,\n",
    "         data=data)\n",
    "plt.plot('fitted_return',\n",
    "         '-b',\n",
    "         label='Fitted Return',\n",
    "         linewidth=1,\n",
    "         data=data)\n",
    "plt.title(\"China's Stock Market\")\n",
    "plt.xlabel('Month')  # 画图的x轴名称\n",
    "plt.ylabel('Return')  # 画图的y轴名称\n",
    "\n",
    "fig = plt.gcf()\n",
    "fig.savefig('fitted_return.pdf', bbox_inches='tight')  # 更改输出图片格式 jpg"
   ]
  },
  {
   "cell_type": "markdown",
   "metadata": {},
   "source": [
    "## 长期预测 Long Horizon Forecast"
   ]
  },
  {
   "cell_type": "markdown",
   "metadata": {},
   "source": [
    "$$\n",
    "r_{t+1} + r_{t+2} + r_{t+3}  =\\alpha+\\beta x_{t}+\\varepsilon_{t+1}\n",
    "$$"
   ]
  },
  {
   "cell_type": "code",
   "execution_count": null,
   "metadata": {},
   "outputs": [],
   "source": [
    "reg_data['next_ret'] = reg_data['Raw_return'].shift(-1) + 1\n",
    "reg_data['next_ret2'] = reg_data['Raw_return'].shift(-2) + 1\n",
    "reg_data['next_ret3'] = reg_data['Raw_return'].shift(-3) + 1\n",
    "reg_data['future_3month_return'] = reg_data['next_ret'] * reg_data['next_ret2'] * reg_data['next_ret3'] - 1\n",
    "reg_data"
   ]
  },
  {
   "cell_type": "code",
   "execution_count": null,
   "metadata": {},
   "outputs": [],
   "source": [
    "model_ppi_3month = smf.ols('future_3month_return ~ lppi',\n",
    "                 data=reg_data['2012-12':'2022-12']).fit(\n",
    "                     cov_type='HAC', cov_kwds={'maxlags': 6})\n",
    "print(model_ppi_3month.summary())"
   ]
  },
  {
   "cell_type": "markdown",
   "metadata": {},
   "source": [
    "# 整理结果"
   ]
  },
  {
   "cell_type": "code",
   "execution_count": null,
   "metadata": {},
   "outputs": [],
   "source": [
    "from statsmodels.iolib.summary2 import summary_col\n",
    "\n",
    "info_dict = {'No. observations': lambda x: f\"{int(x.nobs):d}\"}\n",
    "\n",
    "results_table = summary_col(results=[model_ppi, model_ppi_3month],\n",
    "                            float_format='%0.3f', #数据显示的格式，默认四位小数\n",
    "                            stars=True, # 是否有*，True为有\n",
    "                            model_names=['Month PPI', 'Month future 3 PPI'],\n",
    "                            info_dict=info_dict,\n",
    "                            regressor_order=['Intercept', 'lppi'])\n",
    "\n",
    "results_table.add_title(\n",
    "    'Table - OLS Regressions: Forecast Stock Market Return')\n",
    "\n",
    "print(results_table)"
   ]
  }
 ],
 "metadata": {
  "kernelspec": {
   "display_name": "base",
   "language": "python",
   "name": "python3"
  },
  "language_info": {
   "codemirror_mode": {
    "name": "ipython",
    "version": 3
   },
   "file_extension": ".py",
   "mimetype": "text/x-python",
   "name": "python",
   "nbconvert_exporter": "python",
   "pygments_lexer": "ipython3",
   "version": "3.9.12 (main, Apr  4 2022, 05:22:27) [MSC v.1916 64 bit (AMD64)]"
  },
  "orig_nbformat": 4,
  "vscode": {
   "interpreter": {
    "hash": "f7401c3a6738d15d752740af9785731698b5ffd5adfb1a735c0bc94da9902075"
   }
  }
 },
 "nbformat": 4,
 "nbformat_minor": 2
}
